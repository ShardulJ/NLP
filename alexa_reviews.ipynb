{
 "cells": [
  {
   "cell_type": "code",
   "execution_count": 324,
   "metadata": {},
   "outputs": [],
   "source": [
    "%matplotlib inline\n",
    "\n",
    "import numpy as np\n",
    "import pandas as pd\n",
    "import seaborn as sns\n",
    "import matplotlib.pyplot as plt\n",
    "from sklearn.feature_extraction.text import TfidfTransformer\n",
    "from sklearn.feature_extraction.text import TfidfVectorizer\n",
    "from sklearn.feature_extraction.text import CountVectorizer\n",
    "from sklearn.metrics import confusion_matrix, classification_report\n",
    "from sklearn import metrics\n",
    "from sklearn.metrics import roc_curve, auc\n",
    "from nltk.stem.porter import PorterStemmer\n",
    "import os\n",
    "from imblearn.over_sampling import SMOTE\n",
    "from sklearn.model_selection import train_test_split as tts\n"
   ]
  },
  {
   "cell_type": "code",
   "execution_count": 216,
   "metadata": {},
   "outputs": [],
   "source": [
    "os.chdir(r\"C:\\Users\\Shardul Janaskar\\Downloads\\lda_amazon\")"
   ]
  },
  {
   "cell_type": "code",
   "execution_count": 217,
   "metadata": {},
   "outputs": [],
   "source": [
    "df = pd.read_csv('reviews_sample.csv')"
   ]
  },
  {
   "cell_type": "code",
   "execution_count": 218,
   "metadata": {},
   "outputs": [],
   "source": [
    "df = df.drop(['Unnamed: 0','review_link','review_votes','sentiment','author','instance_id','id','review_date','review_header','verified_purchase'],1)"
   ]
  },
  {
   "cell_type": "code",
   "execution_count": 219,
   "metadata": {},
   "outputs": [],
   "source": [
    "df = df[df.rating != 3]"
   ]
  },
  {
   "cell_type": "code",
   "execution_count": 220,
   "metadata": {},
   "outputs": [],
   "source": [
    "def partition(x):\n",
    "    if x < 3:\n",
    "        return 'negative'\n",
    "    else:\n",
    "        return 'positive'\n",
    "    \n",
    "\n",
    "filtered_df = df['rating']\n",
    "df1 = filtered_df.map(partition)\n",
    "df['pos_neg'] = df1"
   ]
  },
  {
   "cell_type": "code",
   "execution_count": 221,
   "metadata": {},
   "outputs": [],
   "source": [
    "df = df.dropna() "
   ]
  },
  {
   "cell_type": "code",
   "execution_count": 222,
   "metadata": {},
   "outputs": [],
   "source": [
    "df = df.drop('rating',1)"
   ]
  },
  {
   "cell_type": "code",
   "execution_count": 223,
   "metadata": {},
   "outputs": [
    {
     "data": {
      "text/plain": [
       "(89, 2)"
      ]
     },
     "execution_count": 223,
     "metadata": {},
     "output_type": "execute_result"
    }
   ],
   "source": [
    "df.shape"
   ]
  },
  {
   "cell_type": "code",
   "execution_count": 224,
   "metadata": {},
   "outputs": [
    {
     "data": {
      "text/plain": [
       "positive    81\n",
       "negative     8\n",
       "Name: pos_neg, dtype: int64"
      ]
     },
     "execution_count": 224,
     "metadata": {},
     "output_type": "execute_result"
    }
   ],
   "source": [
    "df['pos_neg'].value_counts()\n"
   ]
  },
  {
   "cell_type": "code",
   "execution_count": 225,
   "metadata": {},
   "outputs": [],
   "source": [
    "smt = SMOTE()"
   ]
  },
  {
   "cell_type": "code",
   "execution_count": 232,
   "metadata": {},
   "outputs": [],
   "source": [
    "import re\n",
    "import nltk\n",
    "from nltk.stem.wordnet import WordNetLemmatizer\n",
    "wpt = nltk.WordPunctTokenizer()\n",
    "stop_words = nltk.corpus.stopwords.words('english')\n",
    "wnl= WordNetLemmatizer()\n",
    "def normalize_document(doc):\n",
    "    # lower case and remove special characters\\whitespaces\n",
    "    doc = re.sub(r'[^a-zA-Z\\s]', '', str(doc))\n",
    "    doc = doc.lower()\n",
    "    doc = doc.strip()\n",
    "    # tokenize document\n",
    "    tokens = wpt.tokenize(doc)\n",
    "    # filter stopwords out of document\n",
    "    filtered_tokens = [token for token in tokens if token not in stop_words]\n",
    "    #Lemmetization\n",
    "    lem_tokens = [wnl.lemmatize(word, pos=\"v\") for word in filtered_tokens]\n",
    "    # re-create document from filtered tokens\n",
    "    doc = ' '.join(lem_tokens)\n",
    "    return doc"
   ]
  },
  {
   "cell_type": "code",
   "execution_count": 233,
   "metadata": {},
   "outputs": [],
   "source": [
    "normalize_corpus = np.vectorize(normalize_document)"
   ]
  },
  {
   "cell_type": "code",
   "execution_count": 234,
   "metadata": {},
   "outputs": [],
   "source": [
    "text = df['review_body']"
   ]
  },
  {
   "cell_type": "code",
   "execution_count": 244,
   "metadata": {},
   "outputs": [],
   "source": [
    "norm_corp = normalize_corpus(text)"
   ]
  },
  {
   "cell_type": "code",
   "execution_count": 253,
   "metadata": {},
   "outputs": [],
   "source": [
    "# X = df.drop('pos_neg',1)\n",
    "y = df['pos_neg'].map({'positive' : 1, 'negative' : 0})"
   ]
  },
  {
   "cell_type": "code",
   "execution_count": 258,
   "metadata": {},
   "outputs": [],
   "source": [
    "X_train, X_test, y_train, y_test = tts(norm_corp,y,test_size=0.2, random_state=42)"
   ]
  },
  {
   "cell_type": "code",
   "execution_count": 259,
   "metadata": {},
   "outputs": [],
   "source": [
    "cv = CountVectorizer()\n",
    "X_train1 = cv.fit_transform(X_train)\n",
    "X_test1 = cv.transform(X_test)"
   ]
  },
  {
   "cell_type": "code",
   "execution_count": 260,
   "metadata": {},
   "outputs": [
    {
     "data": {
      "text/plain": [
       "(71, 402)"
      ]
     },
     "execution_count": 260,
     "metadata": {},
     "output_type": "execute_result"
    }
   ],
   "source": [
    "X_train1.shape"
   ]
  },
  {
   "cell_type": "code",
   "execution_count": 264,
   "metadata": {},
   "outputs": [],
   "source": [
    "from sklearn.naive_bayes import MultinomialNB"
   ]
  },
  {
   "cell_type": "code",
   "execution_count": 265,
   "metadata": {},
   "outputs": [],
   "source": [
    "nb = MultinomialNB()"
   ]
  },
  {
   "cell_type": "code",
   "execution_count": 266,
   "metadata": {},
   "outputs": [
    {
     "data": {
      "text/plain": [
       "MultinomialNB(alpha=1.0, class_prior=None, fit_prior=True)"
      ]
     },
     "execution_count": 266,
     "metadata": {},
     "output_type": "execute_result"
    }
   ],
   "source": [
    "nb.fit(X_train1,y_train)\n"
   ]
  },
  {
   "cell_type": "code",
   "execution_count": 267,
   "metadata": {},
   "outputs": [],
   "source": [
    "tvec = TfidfVectorizer(max_features=100000)"
   ]
  },
  {
   "cell_type": "code",
   "execution_count": 268,
   "metadata": {},
   "outputs": [
    {
     "data": {
      "text/plain": [
       "array([1, 1, 1, 1, 1, 1, 1, 1, 1, 1, 1, 1, 1, 1, 1, 1, 1, 1], dtype=int64)"
      ]
     },
     "execution_count": 268,
     "metadata": {},
     "output_type": "execute_result"
    }
   ],
   "source": [
    "nb.predict(X_test1)"
   ]
  },
  {
   "cell_type": "code",
   "execution_count": 289,
   "metadata": {},
   "outputs": [],
   "source": [
    "X = norm_corp"
   ]
  },
  {
   "cell_type": "code",
   "execution_count": 290,
   "metadata": {},
   "outputs": [],
   "source": [
    "Xtrain = tvec.fit_transform(X)"
   ]
  },
  {
   "cell_type": "code",
   "execution_count": 292,
   "metadata": {},
   "outputs": [],
   "source": [
    "X_SMOTE, y_SMOTE = smt.fit_sample(Xtrain, y)"
   ]
  },
  {
   "cell_type": "code",
   "execution_count": 293,
   "metadata": {},
   "outputs": [],
   "source": [
    "new_df = pd.DataFrame(X_SMOTE.todense(), columns=tvec.get_feature_names())"
   ]
  },
  {
   "cell_type": "code",
   "execution_count": 294,
   "metadata": {},
   "outputs": [],
   "source": [
    "X_trains, X_tests, y_trains, y_tests = tts(X_SMOTE, y_SMOTE,test_size=0.2, random_state=42 )\n"
   ]
  },
  {
   "cell_type": "code",
   "execution_count": 295,
   "metadata": {},
   "outputs": [
    {
     "data": {
      "text/plain": [
       "MultinomialNB(alpha=1.0, class_prior=None, fit_prior=True)"
      ]
     },
     "execution_count": 295,
     "metadata": {},
     "output_type": "execute_result"
    }
   ],
   "source": [
    "nb.fit(X_trains, y_trains)"
   ]
  },
  {
   "cell_type": "code",
   "execution_count": 296,
   "metadata": {},
   "outputs": [],
   "source": [
    "y_preds = nb.predict(X_tests)"
   ]
  },
  {
   "cell_type": "code",
   "execution_count": 297,
   "metadata": {},
   "outputs": [
    {
     "data": {
      "text/plain": [
       "0.8181818181818182"
      ]
     },
     "execution_count": 297,
     "metadata": {},
     "output_type": "execute_result"
    }
   ],
   "source": [
    "from sklearn.metrics import accuracy_score\n",
    "accuracy_score(y_tests, y_preds)"
   ]
  },
  {
   "cell_type": "code",
   "execution_count": 298,
   "metadata": {},
   "outputs": [],
   "source": [
    "from sklearn.linear_model import LogisticRegression"
   ]
  },
  {
   "cell_type": "code",
   "execution_count": 303,
   "metadata": {},
   "outputs": [],
   "source": [
    "lr = LogisticRegression()"
   ]
  },
  {
   "cell_type": "code",
   "execution_count": 304,
   "metadata": {},
   "outputs": [
    {
     "name": "stderr",
     "output_type": "stream",
     "text": [
      "C:\\Users\\Shardul Janaskar\\Anaconda3\\lib\\site-packages\\sklearn\\linear_model\\logistic.py:433: FutureWarning: Default solver will be changed to 'lbfgs' in 0.22. Specify a solver to silence this warning.\n",
      "  FutureWarning)\n"
     ]
    },
    {
     "data": {
      "text/plain": [
       "LogisticRegression(C=1.0, class_weight=None, dual=False, fit_intercept=True,\n",
       "          intercept_scaling=1, max_iter=100, multi_class='warn',\n",
       "          n_jobs=None, penalty='l2', random_state=None, solver='warn',\n",
       "          tol=0.0001, verbose=0, warm_start=False)"
      ]
     },
     "execution_count": 304,
     "metadata": {},
     "output_type": "execute_result"
    }
   ],
   "source": [
    "lr.fit(X_trains,y_trains)"
   ]
  },
  {
   "cell_type": "code",
   "execution_count": 305,
   "metadata": {},
   "outputs": [],
   "source": [
    "y_predict = lr.predict(X_tests)"
   ]
  },
  {
   "cell_type": "code",
   "execution_count": 306,
   "metadata": {},
   "outputs": [
    {
     "data": {
      "text/plain": [
       "1.0"
      ]
     },
     "execution_count": 306,
     "metadata": {},
     "output_type": "execute_result"
    }
   ],
   "source": [
    "accuracy_score(y_tests, y_predict)"
   ]
  },
  {
   "cell_type": "code",
   "execution_count": 308,
   "metadata": {},
   "outputs": [],
   "source": [
    "from sklearn.svm import SVC"
   ]
  },
  {
   "cell_type": "code",
   "execution_count": 309,
   "metadata": {},
   "outputs": [],
   "source": [
    "sv = SVC()"
   ]
  },
  {
   "cell_type": "code",
   "execution_count": 310,
   "metadata": {},
   "outputs": [
    {
     "name": "stderr",
     "output_type": "stream",
     "text": [
      "C:\\Users\\Shardul Janaskar\\Anaconda3\\lib\\site-packages\\sklearn\\svm\\base.py:196: FutureWarning: The default value of gamma will change from 'auto' to 'scale' in version 0.22 to account better for unscaled features. Set gamma explicitly to 'auto' or 'scale' to avoid this warning.\n",
      "  \"avoid this warning.\", FutureWarning)\n"
     ]
    },
    {
     "data": {
      "text/plain": [
       "SVC(C=1.0, cache_size=200, class_weight=None, coef0=0.0,\n",
       "  decision_function_shape='ovr', degree=3, gamma='auto_deprecated',\n",
       "  kernel='rbf', max_iter=-1, probability=False, random_state=None,\n",
       "  shrinking=True, tol=0.001, verbose=False)"
      ]
     },
     "execution_count": 310,
     "metadata": {},
     "output_type": "execute_result"
    }
   ],
   "source": [
    "sv.fit(X_trains,y_trains)"
   ]
  },
  {
   "cell_type": "code",
   "execution_count": 312,
   "metadata": {},
   "outputs": [],
   "source": [
    "pred = sv.predict(X_tests)"
   ]
  },
  {
   "cell_type": "code",
   "execution_count": 313,
   "metadata": {},
   "outputs": [
    {
     "data": {
      "text/plain": [
       "0.48484848484848486"
      ]
     },
     "execution_count": 313,
     "metadata": {},
     "output_type": "execute_result"
    }
   ],
   "source": [
    "accuracy_score(y_tests, pred)"
   ]
  },
  {
   "cell_type": "code",
   "execution_count": 314,
   "metadata": {},
   "outputs": [],
   "source": [
    "from xgboost import XGBClassifier"
   ]
  },
  {
   "cell_type": "code",
   "execution_count": 315,
   "metadata": {},
   "outputs": [],
   "source": [
    "xg = XGBClassifier()"
   ]
  },
  {
   "cell_type": "code",
   "execution_count": 316,
   "metadata": {},
   "outputs": [
    {
     "data": {
      "text/plain": [
       "XGBClassifier(base_score=0.5, booster='gbtree', colsample_bylevel=1,\n",
       "       colsample_bytree=1, gamma=0, learning_rate=0.1, max_delta_step=0,\n",
       "       max_depth=3, min_child_weight=1, missing=None, n_estimators=100,\n",
       "       n_jobs=1, nthread=None, objective='binary:logistic', random_state=0,\n",
       "       reg_alpha=0, reg_lambda=1, scale_pos_weight=1, seed=None,\n",
       "       silent=True, subsample=1)"
      ]
     },
     "execution_count": 316,
     "metadata": {},
     "output_type": "execute_result"
    }
   ],
   "source": [
    "xg.fit(X_trains,y_trains)"
   ]
  },
  {
   "cell_type": "code",
   "execution_count": 317,
   "metadata": {},
   "outputs": [],
   "source": [
    "xg_pred = xg.predict(X_tests)"
   ]
  },
  {
   "cell_type": "code",
   "execution_count": 318,
   "metadata": {},
   "outputs": [
    {
     "data": {
      "text/plain": [
       "0.9090909090909091"
      ]
     },
     "execution_count": 318,
     "metadata": {},
     "output_type": "execute_result"
    }
   ],
   "source": [
    "accuracy_score(y_tests,xg_pred)"
   ]
  },
  {
   "cell_type": "code",
   "execution_count": 328,
   "metadata": {},
   "outputs": [],
   "source": [
    "from keras.models import Sequential"
   ]
  },
  {
   "cell_type": "code",
   "execution_count": 329,
   "metadata": {},
   "outputs": [],
   "source": [
    "from keras import layers\n"
   ]
  },
  {
   "cell_type": "code",
   "execution_count": 331,
   "metadata": {},
   "outputs": [],
   "source": [
    "input_dim = X_trains.shape[1]"
   ]
  },
  {
   "cell_type": "code",
   "execution_count": 332,
   "metadata": {},
   "outputs": [],
   "source": [
    "from keras.utils.np_utils import to_categorical\n",
    "y_train_cat = to_categorical(y_trains)\n",
    "y_test_cat = to_categorical(y_tests)"
   ]
  },
  {
   "cell_type": "code",
   "execution_count": 333,
   "metadata": {},
   "outputs": [],
   "source": [
    "model = Sequential()"
   ]
  },
  {
   "cell_type": "code",
   "execution_count": 334,
   "metadata": {},
   "outputs": [],
   "source": [
    "model.add(layers.Dense(10,input_dim = input_dim, activation='relu'))\n",
    "model.add(layers.Dense(2, activation=\"softmax\"))"
   ]
  },
  {
   "cell_type": "code",
   "execution_count": 336,
   "metadata": {},
   "outputs": [],
   "source": [
    "model.compile(loss = 'categorical_crossentropy',optimizer='adam', metrics=['accuracy'])"
   ]
  },
  {
   "cell_type": "code",
   "execution_count": 342,
   "metadata": {},
   "outputs": [
    {
     "name": "stdout",
     "output_type": "stream",
     "text": [
      "Train on 116 samples, validate on 13 samples\n",
      "Epoch 1/50\n",
      "116/116 [==============================] - 0s 285us/step - loss: 0.0159 - acc: 1.0000 - val_loss: 0.0359 - val_acc: 1.0000\n",
      "Epoch 2/50\n",
      "116/116 [==============================] - 0s 276us/step - loss: 0.0152 - acc: 1.0000 - val_loss: 0.0346 - val_acc: 1.0000\n",
      "Epoch 3/50\n",
      "116/116 [==============================] - 0s 328us/step - loss: 0.0146 - acc: 1.0000 - val_loss: 0.0337 - val_acc: 1.0000\n",
      "Epoch 4/50\n",
      "116/116 [==============================] - 0s 354us/step - loss: 0.0140 - acc: 1.0000 - val_loss: 0.0325 - val_acc: 1.0000\n",
      "Epoch 5/50\n",
      "116/116 [==============================] - 0s 302us/step - loss: 0.0135 - acc: 1.0000 - val_loss: 0.0315 - val_acc: 1.0000\n",
      "Epoch 6/50\n",
      "116/116 [==============================] - 0s 319us/step - loss: 0.0130 - acc: 1.0000 - val_loss: 0.0306 - val_acc: 1.0000\n",
      "Epoch 7/50\n",
      "116/116 [==============================] - 0s 362us/step - loss: 0.0125 - acc: 1.0000 - val_loss: 0.0298 - val_acc: 1.0000\n",
      "Epoch 8/50\n",
      "116/116 [==============================] - 0s 328us/step - loss: 0.0120 - acc: 1.0000 - val_loss: 0.0289 - val_acc: 1.0000\n",
      "Epoch 9/50\n",
      "116/116 [==============================] - 0s 440us/step - loss: 0.0116 - acc: 1.0000 - val_loss: 0.0281 - val_acc: 1.0000\n",
      "Epoch 10/50\n",
      "116/116 [==============================] - 0s 267us/step - loss: 0.0112 - acc: 1.0000 - val_loss: 0.0273 - val_acc: 1.0000\n",
      "Epoch 11/50\n",
      "116/116 [==============================] - 0s 345us/step - loss: 0.0108 - acc: 1.0000 - val_loss: 0.0266 - val_acc: 1.0000\n",
      "Epoch 12/50\n",
      "116/116 [==============================] - 0s 397us/step - loss: 0.0104 - acc: 1.0000 - val_loss: 0.0259 - val_acc: 1.0000\n",
      "Epoch 13/50\n",
      "116/116 [==============================] - 0s 319us/step - loss: 0.0101 - acc: 1.0000 - val_loss: 0.0252 - val_acc: 1.0000\n",
      "Epoch 14/50\n",
      "116/116 [==============================] - 0s 302us/step - loss: 0.0097 - acc: 1.0000 - val_loss: 0.0246 - val_acc: 1.0000\n",
      "Epoch 15/50\n",
      "116/116 [==============================] - 0s 319us/step - loss: 0.0094 - acc: 1.0000 - val_loss: 0.0239 - val_acc: 1.0000\n",
      "Epoch 16/50\n",
      "116/116 [==============================] - 0s 302us/step - loss: 0.0091 - acc: 1.0000 - val_loss: 0.0234 - val_acc: 1.0000\n",
      "Epoch 17/50\n",
      "116/116 [==============================] - 0s 311us/step - loss: 0.0088 - acc: 1.0000 - val_loss: 0.0228 - val_acc: 1.0000\n",
      "Epoch 18/50\n",
      "116/116 [==============================] - 0s 293us/step - loss: 0.0086 - acc: 1.0000 - val_loss: 0.0223 - val_acc: 1.0000\n",
      "Epoch 19/50\n",
      "116/116 [==============================] - 0s 285us/step - loss: 0.0083 - acc: 1.0000 - val_loss: 0.0218 - val_acc: 1.0000\n",
      "Epoch 20/50\n",
      "116/116 [==============================] - 0s 371us/step - loss: 0.0080 - acc: 1.0000 - val_loss: 0.0212 - val_acc: 1.0000\n",
      "Epoch 21/50\n",
      "116/116 [==============================] - 0s 336us/step - loss: 0.0078 - acc: 1.0000 - val_loss: 0.0207 - val_acc: 1.0000\n",
      "Epoch 22/50\n",
      "116/116 [==============================] - 0s 354us/step - loss: 0.0076 - acc: 1.0000 - val_loss: 0.0203 - val_acc: 1.0000\n",
      "Epoch 23/50\n",
      "116/116 [==============================] - 0s 345us/step - loss: 0.0074 - acc: 1.0000 - val_loss: 0.0198 - val_acc: 1.0000\n",
      "Epoch 24/50\n",
      "116/116 [==============================] - 0s 224us/step - loss: 0.0071 - acc: 1.0000 - val_loss: 0.0194 - val_acc: 1.0000\n",
      "Epoch 25/50\n",
      "116/116 [==============================] - 0s 380us/step - loss: 0.0070 - acc: 1.0000 - val_loss: 0.0190 - val_acc: 1.0000\n",
      "Epoch 26/50\n",
      "116/116 [==============================] - 0s 328us/step - loss: 0.0068 - acc: 1.0000 - val_loss: 0.0186 - val_acc: 1.0000\n",
      "Epoch 27/50\n",
      "116/116 [==============================] - 0s 388us/step - loss: 0.0066 - acc: 1.0000 - val_loss: 0.0182 - val_acc: 1.0000\n",
      "Epoch 28/50\n",
      "116/116 [==============================] - 0s 354us/step - loss: 0.0064 - acc: 1.0000 - val_loss: 0.0178 - val_acc: 1.0000\n",
      "Epoch 29/50\n",
      "116/116 [==============================] - 0s 311us/step - loss: 0.0062 - acc: 1.0000 - val_loss: 0.0175 - val_acc: 1.0000\n",
      "Epoch 30/50\n",
      "116/116 [==============================] - 0s 345us/step - loss: 0.0061 - acc: 1.0000 - val_loss: 0.0171 - val_acc: 1.0000\n",
      "Epoch 31/50\n",
      "116/116 [==============================] - 0s 336us/step - loss: 0.0059 - acc: 1.0000 - val_loss: 0.0168 - val_acc: 1.0000\n",
      "Epoch 32/50\n",
      "116/116 [==============================] - 0s 819us/step - loss: 0.0058 - acc: 1.0000 - val_loss: 0.0165 - val_acc: 1.0000\n",
      "Epoch 33/50\n",
      "116/116 [==============================] - 0s 354us/step - loss: 0.0056 - acc: 1.0000 - val_loss: 0.0162 - val_acc: 1.0000\n",
      "Epoch 34/50\n",
      "116/116 [==============================] - 0s 302us/step - loss: 0.0055 - acc: 1.0000 - val_loss: 0.0158 - val_acc: 1.0000\n",
      "Epoch 35/50\n",
      "116/116 [==============================] - 0s 345us/step - loss: 0.0053 - acc: 1.0000 - val_loss: 0.0155 - val_acc: 1.0000\n",
      "Epoch 36/50\n",
      "116/116 [==============================] - 0s 388us/step - loss: 0.0052 - acc: 1.0000 - val_loss: 0.0152 - val_acc: 1.0000\n",
      "Epoch 37/50\n",
      "116/116 [==============================] - 0s 345us/step - loss: 0.0051 - acc: 1.0000 - val_loss: 0.0149 - val_acc: 1.0000\n",
      "Epoch 38/50\n",
      "116/116 [==============================] - 0s 345us/step - loss: 0.0050 - acc: 1.0000 - val_loss: 0.0147 - val_acc: 1.0000\n",
      "Epoch 39/50\n",
      "116/116 [==============================] - 0s 319us/step - loss: 0.0048 - acc: 1.0000 - val_loss: 0.0144 - val_acc: 1.0000\n",
      "Epoch 40/50\n",
      "116/116 [==============================] - 0s 302us/step - loss: 0.0047 - acc: 1.0000 - val_loss: 0.0141 - val_acc: 1.0000\n",
      "Epoch 41/50\n",
      "116/116 [==============================] - 0s 328us/step - loss: 0.0046 - acc: 1.0000 - val_loss: 0.0139 - val_acc: 1.0000\n",
      "Epoch 42/50\n",
      "116/116 [==============================] - 0s 302us/step - loss: 0.0045 - acc: 1.0000 - val_loss: 0.0137 - val_acc: 1.0000\n",
      "Epoch 43/50\n",
      "116/116 [==============================] - 0s 319us/step - loss: 0.0044 - acc: 1.0000 - val_loss: 0.0134 - val_acc: 1.0000\n",
      "Epoch 44/50\n",
      "116/116 [==============================] - 0s 423us/step - loss: 0.0043 - acc: 1.0000 - val_loss: 0.0132 - val_acc: 1.0000\n",
      "Epoch 45/50\n",
      "116/116 [==============================] - 0s 319us/step - loss: 0.0042 - acc: 1.0000 - val_loss: 0.0130 - val_acc: 1.0000\n",
      "Epoch 46/50\n",
      "116/116 [==============================] - 0s 328us/step - loss: 0.0041 - acc: 1.0000 - val_loss: 0.0128 - val_acc: 1.0000\n",
      "Epoch 47/50\n",
      "116/116 [==============================] - 0s 311us/step - loss: 0.0040 - acc: 1.0000 - val_loss: 0.0126 - val_acc: 1.0000\n",
      "Epoch 48/50\n",
      "116/116 [==============================] - 0s 319us/step - loss: 0.0039 - acc: 1.0000 - val_loss: 0.0123 - val_acc: 1.0000\n",
      "Epoch 49/50\n",
      "116/116 [==============================] - 0s 302us/step - loss: 0.0039 - acc: 1.0000 - val_loss: 0.0121 - val_acc: 1.0000\n",
      "Epoch 50/50\n",
      "116/116 [==============================] - 0s 328us/step - loss: 0.0038 - acc: 1.0000 - val_loss: 0.0119 - val_acc: 1.0000\n"
     ]
    }
   ],
   "source": [
    "history = model.fit(X_trains, y_train_cat, epochs=50, validation_split=0.1, batch_size=10)"
   ]
  },
  {
   "cell_type": "code",
   "execution_count": 343,
   "metadata": {},
   "outputs": [
    {
     "name": "stdout",
     "output_type": "stream",
     "text": [
      "Training Accuracy: 1.0\n",
      "Training Loss: 0.004561170899533024\n"
     ]
    }
   ],
   "source": [
    "loss, accuracy = model.evaluate(X_trains, y_train_cat, verbose=False)\n",
    "print (\"Training Accuracy:\",accuracy)\n",
    "print (\"Training Loss:\", loss)"
   ]
  },
  {
   "cell_type": "code",
   "execution_count": 344,
   "metadata": {},
   "outputs": [
    {
     "name": "stdout",
     "output_type": "stream",
     "text": [
      "Testing Accuracy: 1.0\n",
      "Testing Loss: 0.06228648487365607\n"
     ]
    }
   ],
   "source": [
    "loss, accuracy = model.evaluate(X_tests, y_test_cat, verbose=False)\n",
    "print (\"Testing Accuracy:\",accuracy)\n",
    "print (\"Testing Loss:\", loss)"
   ]
  },
  {
   "cell_type": "code",
   "execution_count": 352,
   "metadata": {},
   "outputs": [],
   "source": [
    "plt.style.use('ggplot')\n",
    "\n",
    "def plot_history(history):\n",
    "    accuracy = history.history['acc']\n",
    "    val_acc = history.history['val_acc']\n",
    "    loss = history.history['loss']\n",
    "    val_loss = history.history['val_loss']\n",
    "    x = range(1,len(accuracy)+1)\n",
    "    plt.figure(figsize=(12,5))\n",
    "    plt.subplot(1,2,1)\n",
    "    plt.plot(x,accuracy,\"b\", label=\"Training_Acc\")\n",
    "    plt.plot(x,val_acc,\"r\", label=\"Validation_Acc\")\n",
    "    plt.title(\"Training and Validation Accuracy\")\n",
    "    plt.legend()\n",
    "    plt.subplot(1,2,2)\n",
    "    plt.plot(x,loss,\"b\", label=\"Training_Acc\")\n",
    "    plt.plot(x,val_loss,\"r\", label=\"Validation_Acc\")\n",
    "    plt.title(\"Training and Validation Loss\")\n",
    "    plt.legend()"
   ]
  },
  {
   "cell_type": "code",
   "execution_count": 353,
   "metadata": {},
   "outputs": [
    {
     "data": {
      "image/png": "[encoded data removed]",
      "text/plain": [
       "<Figure size 864x360 with 2 Axes>"
      ]
     },
     "metadata": {},
     "output_type": "display_data"
    }
   ],
   "source": [
    "plot_history(history)"
   ]
  },
  {
   "cell_type": "code",
   "execution_count": 365,
   "metadata": {},
   "outputs": [
    {
     "name": "stdout",
     "output_type": "stream",
     "text": [
      "I personally only use it for playing Spotify, didn't really use it for anything else.\n",
      "[3, 193, 59, 20, 4, 6, 194, 195, 124, 50, 20, 4, 6, 75, 196]\n"
     ]
    }
   ],
   "source": [
    "sentences = df[\"review_body\"].values\n",
    "y = df[\"pos_neg\"].map({'positive':1,'negative':0}).values\n",
    " \n",
    "sentences_train, sentences_test, y_train, y_test = tts(sentences, y, test_size=0.25, random_state=1000)\n",
    "\n",
    "from keras.preprocessing.text import Tokenizer\n",
    "tokenizer = Tokenizer(num_words=5000)\n",
    "tokenizer.fit_on_texts(sentences_train)\n",
    "\n",
    "X_train = tokenizer.texts_to_sequences(sentences_train)\n",
    "X_test = tokenizer.texts_to_sequences(sentences_test)\n",
    "\n",
    "vocab_size = len(tokenizer.word_index)+1 # adding 1 because of reserved 0 index\n",
    "\n",
    "print (sentences_train[2])\n",
    "print (X_train[2])"
   ]
  },
  {
   "cell_type": "code",
   "execution_count": 366,
   "metadata": {},
   "outputs": [
    {
     "name": "stdout",
     "output_type": "stream",
     "text": [
      "[ 12   1  25 121   3 188  95   4   0   0   0   0   0   0   0   0   0   0\n",
      "   0   0   0   0   0   0   0   0   0   0   0   0   0   0   0   0   0   0\n",
      "   0   0   0   0   0   0   0   0   0   0   0   0   0   0   0   0   0   0\n",
      "   0   0   0   0   0   0   0   0   0   0   0   0   0   0   0   0   0   0\n",
      "   0   0   0   0   0   0   0   0   0   0   0   0   0   0   0   0   0   0\n",
      "   0   0   0   0   0   0   0   0   0   0]\n"
     ]
    }
   ],
   "source": [
    "from keras.preprocessing.sequence import pad_sequences\n",
    "maxlen=100\n",
    "X_train = pad_sequences(X_train, padding = \"post\", maxlen= maxlen)\n",
    "X_test = pad_sequences(X_test, padding = \"post\", maxlen=maxlen)\n",
    "\n",
    "print(X_train[0,:])"
   ]
  },
  {
   "cell_type": "code",
   "execution_count": 367,
   "metadata": {},
   "outputs": [],
   "source": [
    "from keras.models import Sequential\n",
    "from keras import layers\n",
    "embedding_dim = 50"
   ]
  },
  {
   "cell_type": "code",
   "execution_count": 368,
   "metadata": {},
   "outputs": [],
   "source": [
    "model= Sequential()\n",
    "model.add(layers.Embedding(input_dim=vocab_size, output_dim= embedding_dim, input_length=maxlen))"
   ]
  },
  {
   "cell_type": "code",
   "execution_count": 369,
   "metadata": {},
   "outputs": [],
   "source": [
    "model.add(layers.Flatten())\n",
    "model.add(layers.Dense(10, activation = \"relu\"))\n",
    "model.add(layers.Dense(1, activation=\"sigmoid\"))\n",
    "model.compile(optimizer=\"adam\", loss=\"binary_crossentropy\", metrics = [\"accuracy\"])"
   ]
  },
  {
   "cell_type": "code",
   "execution_count": 370,
   "metadata": {},
   "outputs": [
    {
     "name": "stdout",
     "output_type": "stream",
     "text": [
      "_________________________________________________________________\n",
      "Layer (type)                 Output Shape              Param #   \n",
      "=================================================================\n",
      "embedding_2 (Embedding)      (None, 100, 50)           25900     \n",
      "_________________________________________________________________\n",
      "flatten_2 (Flatten)          (None, 5000)              0         \n",
      "_________________________________________________________________\n",
      "dense_5 (Dense)              (None, 10)                50010     \n",
      "_________________________________________________________________\n",
      "dense_6 (Dense)              (None, 1)                 11        \n",
      "=================================================================\n",
      "Total params: 75,921\n",
      "Trainable params: 75,921\n",
      "Non-trainable params: 0\n",
      "_________________________________________________________________\n"
     ]
    }
   ],
   "source": [
    "model.summary()"
   ]
  },
  {
   "cell_type": "code",
   "execution_count": 371,
   "metadata": {},
   "outputs": [
    {
     "name": "stdout",
     "output_type": "stream",
     "text": [
      "Train on 66 samples, validate on 23 samples\n",
      "Epoch 1/20\n",
      "66/66 [==============================] - 3s 44ms/step - loss: 0.5996 - acc: 0.9091 - val_loss: 0.5001 - val_acc: 0.8696\n",
      "Epoch 2/20\n",
      "66/66 [==============================] - 0s 470us/step - loss: 0.3761 - acc: 0.9394 - val_loss: 0.4286 - val_acc: 0.8696\n",
      "Epoch 3/20\n",
      "66/66 [==============================] - 0s 546us/step - loss: 0.2820 - acc: 0.9394 - val_loss: 0.4510 - val_acc: 0.8696\n",
      "Epoch 4/20\n",
      "66/66 [==============================] - 0s 349us/step - loss: 0.2457 - acc: 0.9394 - val_loss: 0.5012 - val_acc: 0.8696\n",
      "Epoch 5/20\n",
      "66/66 [==============================] - 0s 379us/step - loss: 0.2579 - acc: 0.9394 - val_loss: 0.5352 - val_acc: 0.8696\n",
      "Epoch 6/20\n",
      "66/66 [==============================] - 0s 804us/step - loss: 0.2574 - acc: 0.9394 - val_loss: 0.5288 - val_acc: 0.8696\n",
      "Epoch 7/20\n",
      "66/66 [==============================] - 0s 303us/step - loss: 0.2421 - acc: 0.9394 - val_loss: 0.4979 - val_acc: 0.8696\n",
      "Epoch 8/20\n",
      "66/66 [==============================] - 0s 288us/step - loss: 0.2265 - acc: 0.9394 - val_loss: 0.4678 - val_acc: 0.8696\n",
      "Epoch 9/20\n",
      "66/66 [==============================] - 0s 318us/step - loss: 0.2158 - acc: 0.9394 - val_loss: 0.4425 - val_acc: 0.8696\n",
      "Epoch 10/20\n",
      "66/66 [==============================] - 0s 303us/step - loss: 0.1998 - acc: 0.9394 - val_loss: 0.4284 - val_acc: 0.8696\n",
      "Epoch 11/20\n",
      "66/66 [==============================] - 0s 258us/step - loss: 0.1984 - acc: 0.9394 - val_loss: 0.4075 - val_acc: 0.8696\n",
      "Epoch 12/20\n",
      "66/66 [==============================] - 0s 288us/step - loss: 0.1863 - acc: 0.9394 - val_loss: 0.3999 - val_acc: 0.8696\n",
      "Epoch 13/20\n",
      "66/66 [==============================] - 0s 334us/step - loss: 0.1781 - acc: 0.9394 - val_loss: 0.3970 - val_acc: 0.8696\n",
      "Epoch 14/20\n",
      "66/66 [==============================] - 0s 258us/step - loss: 0.1680 - acc: 0.9394 - val_loss: 0.3961 - val_acc: 0.8696\n",
      "Epoch 15/20\n",
      "66/66 [==============================] - 0s 318us/step - loss: 0.1573 - acc: 0.9394 - val_loss: 0.3997 - val_acc: 0.8696\n",
      "Epoch 16/20\n",
      "66/66 [==============================] - 0s 288us/step - loss: 0.1465 - acc: 0.9394 - val_loss: 0.4054 - val_acc: 0.8696\n",
      "Epoch 17/20\n",
      "66/66 [==============================] - 0s 379us/step - loss: 0.1366 - acc: 0.9394 - val_loss: 0.4111 - val_acc: 0.8696\n",
      "Epoch 18/20\n",
      "66/66 [==============================] - 0s 364us/step - loss: 0.1270 - acc: 0.9394 - val_loss: 0.4151 - val_acc: 0.8696\n",
      "Epoch 19/20\n",
      "66/66 [==============================] - 0s 258us/step - loss: 0.1175 - acc: 0.9394 - val_loss: 0.4154 - val_acc: 0.8696\n",
      "Epoch 20/20\n",
      "66/66 [==============================] - 0s 273us/step - loss: 0.1063 - acc: 0.9394 - val_loss: 0.4119 - val_acc: 0.8696\n"
     ]
    }
   ],
   "source": [
    "h= model.fit(X_train, y_train, batch_size=20, epochs=20, verbose=1, validation_data=(X_test, y_test))\n"
   ]
  },
  {
   "cell_type": "code",
   "execution_count": 372,
   "metadata": {},
   "outputs": [
    {
     "name": "stdout",
     "output_type": "stream",
     "text": [
      "Training Accuracy: 0.9393939393939394\n",
      "Training Loss: 0.10031522765304103\n"
     ]
    }
   ],
   "source": [
    "loss, accuracy = model.evaluate(X_train, y_train, verbose=False)\n",
    "print (\"Training Accuracy:\",accuracy)\n",
    "print (\"Training Loss:\", loss)"
   ]
  },
  {
   "cell_type": "code",
   "execution_count": 373,
   "metadata": {},
   "outputs": [],
   "source": [
    "loss_test, accuracy_test = model.evaluate(X_test, y_test, verbose=False)"
   ]
  },
  {
   "cell_type": "code",
   "execution_count": 375,
   "metadata": {},
   "outputs": [
    {
     "name": "stdout",
     "output_type": "stream",
     "text": [
      "Testing Accuracy: 0.8695651888847351\n",
      "Testing Loss: 0.41191962361335754\n"
     ]
    }
   ],
   "source": [
    "loss, accuracy = model.evaluate(X_test, y_test, verbose=False)\n",
    "print (\"Testing Accuracy:\",accuracy)\n",
    "print (\"Testing Loss:\", loss)"
   ]
  },
  {
   "cell_type": "code",
   "execution_count": 376,
   "metadata": {},
   "outputs": [
    {
     "data": {
      "image/png": "[encoded data removed]",
      "text/plain": [
       "<Figure size 864x360 with 2 Axes>"
      ]
     },
     "metadata": {},
     "output_type": "display_data"
    }
   ],
   "source": [
    "plot_history(h)"
   ]
  },
  {
   "cell_type": "code",
   "execution_count": 377,
   "metadata": {},
   "outputs": [],
   "source": [
    "embedding_dim = 100"
   ]
  },
  {
   "cell_type": "code",
   "execution_count": 378,
   "metadata": {},
   "outputs": [
    {
     "name": "stdout",
     "output_type": "stream",
     "text": [
      "_________________________________________________________________\n",
      "Layer (type)                 Output Shape              Param #   \n",
      "=================================================================\n",
      "embedding_3 (Embedding)      (None, 100, 100)          51800     \n",
      "_________________________________________________________________\n",
      "conv1d_1 (Conv1D)            (None, 91, 128)           128128    \n",
      "_________________________________________________________________\n",
      "conv1d_2 (Conv1D)            (None, 82, 100)           128100    \n",
      "_________________________________________________________________\n",
      "global_max_pooling1d_1 (Glob (None, 100)               0         \n",
      "_________________________________________________________________\n",
      "dense_7 (Dense)              (None, 10)                1010      \n",
      "_________________________________________________________________\n",
      "dense_8 (Dense)              (None, 1)                 11        \n",
      "=================================================================\n",
      "Total params: 309,049\n",
      "Trainable params: 309,049\n",
      "Non-trainable params: 0\n",
      "_________________________________________________________________\n"
     ]
    }
   ],
   "source": [
    "model = Sequential()\n",
    "model.add(layers.Embedding(vocab_size, embedding_dim, input_length= maxlen))\n",
    "model.add(layers.Conv1D(128, 10, activation = \"relu\"))\n",
    "model.add(layers.Conv1D(100, 10, activation = \"relu\"))\n",
    "model.add(layers.GlobalMaxPooling1D())\n",
    "model.add(layers.Dense(10, activation = \"relu\"))\n",
    "model.add(layers.Dense(1, activation = \"sigmoid\"))\n",
    "model.compile(optimizer=\"adam\", loss =\"binary_crossentropy\",metrics =[\"accuracy\"])\n",
    "model.summary()"
   ]
  },
  {
   "cell_type": "code",
   "execution_count": 379,
   "metadata": {},
   "outputs": [],
   "source": [
    "history = model.fit(X_train, y_train, epochs=10, verbose=False, validation_data= (X_test, y_test), batch_size=10)"
   ]
  },
  {
   "cell_type": "code",
   "execution_count": 380,
   "metadata": {},
   "outputs": [],
   "source": [
    "loss, accuracy = model.evaluate(X_train, y_train, verbose=False)"
   ]
  },
  {
   "cell_type": "code",
   "execution_count": 381,
   "metadata": {},
   "outputs": [
    {
     "name": "stdout",
     "output_type": "stream",
     "text": [
      "Training Accuracy:0.954545\n"
     ]
    }
   ],
   "source": [
    "print (\"Training Accuracy:{:4f}\".format(accuracy))"
   ]
  },
  {
   "cell_type": "code",
   "execution_count": 382,
   "metadata": {},
   "outputs": [],
   "source": [
    "test_loss, test_accuracy = model.evaluate(X_test, y_test, verbose=False)"
   ]
  },
  {
   "cell_type": "code",
   "execution_count": 383,
   "metadata": {},
   "outputs": [
    {
     "name": "stdout",
     "output_type": "stream",
     "text": [
      "Test Accuracy:0.869565\n"
     ]
    }
   ],
   "source": [
    "print (\"Test Accuracy:{:4f}\".format(test_accuracy))"
   ]
  },
  {
   "cell_type": "code",
   "execution_count": 384,
   "metadata": {},
   "outputs": [
    {
     "data": {
      "image/png": "[encoded data removed]",
      "text/plain": [
       "<Figure size 864x360 with 2 Axes>"
      ]
     },
     "metadata": {},
     "output_type": "display_data"
    }
   ],
   "source": [
    "plot_history(history)"
   ]
  },
  {
   "cell_type": "code",
   "execution_count": null,
   "metadata": {},
   "outputs": [],
   "source": []
  }
 ],
 "metadata": {
  "kernelspec": {
   "display_name": "Python 3",
   "language": "python",
   "name": "python3"
  },
  "language_info": {
   "codemirror_mode": {
    "name": "ipython",
    "version": 3
   },
   "file_extension": ".py",
   "mimetype": "text/x-python",
   "name": "python",
   "nbconvert_exporter": "python",
   "pygments_lexer": "ipython3",
   "version": "3.6.5"
  }
 },
 "nbformat": 4,
 "nbformat_minor": 2
}
