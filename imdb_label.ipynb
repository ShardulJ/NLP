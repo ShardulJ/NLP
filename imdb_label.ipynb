{
 "cells": [
  {
   "cell_type": "code",
   "execution_count": 286,
   "metadata": {},
   "outputs": [],
   "source": [
    "import pandas as pd\n",
    "import numpy as np\n",
    "import os"
   ]
  },
  {
   "cell_type": "code",
   "execution_count": 287,
   "metadata": {},
   "outputs": [],
   "source": [
    "with open(r\"C:\\Users\\Shardul Janaskar\\Downloads\\sentiment_labelled\\sentiment labelled sentences\\imdb_labelled.txt\", 'r') as infile, \\\n",
    "     open(r\"C:\\Users\\Shardul Janaskar\\Downloads\\sentiment_labelled\\sentiment labelled sentences\\imdb_labelled_new.txt\", 'w') as outfile:\n",
    "    data = infile.read()\n",
    "    data = data.replace('\"', '')\n",
    "    outfile.write(data)"
   ]
  },
  {
   "cell_type": "code",
   "execution_count": 288,
   "metadata": {},
   "outputs": [],
   "source": [
    "imdb_df = pd.read_csv(r'C:\\Users\\Shardul Janaskar\\Downloads\\sentiment_labelled\\sentiment labelled sentences\\imdb_labelled_new.txt',sep = '\\t',header = None)"
   ]
  },
  {
   "cell_type": "code",
   "execution_count": 289,
   "metadata": {},
   "outputs": [],
   "source": [
    "imdb_df.columns = ['sentence','label']"
   ]
  },
  {
   "cell_type": "code",
   "execution_count": 290,
   "metadata": {},
   "outputs": [
    {
     "data": {
      "text/plain": [
       "(1000, 2)"
      ]
     },
     "execution_count": 290,
     "metadata": {},
     "output_type": "execute_result"
    }
   ],
   "source": [
    "imdb_df.shape"
   ]
  },
  {
   "cell_type": "code",
   "execution_count": 291,
   "metadata": {},
   "outputs": [
    {
     "name": "stdout",
     "output_type": "stream",
     "text": [
      "<class 'pandas.core.frame.DataFrame'>\n",
      "RangeIndex: 1000 entries, 0 to 999\n",
      "Data columns (total 2 columns):\n",
      "sentence    1000 non-null object\n",
      "label       1000 non-null int64\n",
      "dtypes: int64(1), object(1)\n",
      "memory usage: 15.7+ KB\n"
     ]
    }
   ],
   "source": [
    "imdb_df.info()"
   ]
  },
  {
   "cell_type": "code",
   "execution_count": 292,
   "metadata": {},
   "outputs": [],
   "source": [
    "sentences = imdb_df['sentence'].tolist()"
   ]
  },
  {
   "cell_type": "code",
   "execution_count": 293,
   "metadata": {},
   "outputs": [],
   "source": [
    "from sklearn.feature_extraction.text import CountVectorizer"
   ]
  },
  {
   "cell_type": "code",
   "execution_count": 294,
   "metadata": {},
   "outputs": [],
   "source": [
    "countvec = CountVectorizer()"
   ]
  },
  {
   "cell_type": "code",
   "execution_count": 295,
   "metadata": {},
   "outputs": [
    {
     "data": {
      "text/plain": [
       "CountVectorizer(analyzer='word', binary=False, decode_error='strict',\n",
       "        dtype=<class 'numpy.int64'>, encoding='utf-8', input='content',\n",
       "        lowercase=True, max_df=1.0, max_features=None, min_df=1,\n",
       "        ngram_range=(1, 1), preprocessor=None, stop_words=None,\n",
       "        strip_accents=None, token_pattern='(?u)\\\\b\\\\w\\\\w+\\\\b',\n",
       "        tokenizer=None, vocabulary=None)"
      ]
     },
     "execution_count": 295,
     "metadata": {},
     "output_type": "execute_result"
    }
   ],
   "source": [
    "countvec.fit(sentences)"
   ]
  },
  {
   "cell_type": "code",
   "execution_count": 296,
   "metadata": {},
   "outputs": [],
   "source": [
    "mat = countvec.transform(sentences).toarray()"
   ]
  },
  {
   "cell_type": "code",
   "execution_count": 297,
   "metadata": {},
   "outputs": [
    {
     "data": {
      "text/plain": [
       "(1000, 3047)"
      ]
     },
     "execution_count": 297,
     "metadata": {},
     "output_type": "execute_result"
    }
   ],
   "source": [
    "mat.shape"
   ]
  },
  {
   "cell_type": "code",
   "execution_count": 298,
   "metadata": {},
   "outputs": [],
   "source": [
    "X = mat\n",
    "y = imdb_df['label']"
   ]
  },
  {
   "cell_type": "code",
   "execution_count": 299,
   "metadata": {},
   "outputs": [],
   "source": [
    "from sklearn.model_selection import train_test_split as tts"
   ]
  },
  {
   "cell_type": "code",
   "execution_count": 300,
   "metadata": {},
   "outputs": [],
   "source": [
    "X_train, X_test, y_train, y_test = tts(X,y,test_size = 0.3,random_state = 42)"
   ]
  },
  {
   "cell_type": "code",
   "execution_count": 301,
   "metadata": {},
   "outputs": [],
   "source": [
    "from sklearn.naive_bayes import GaussianNB"
   ]
  },
  {
   "cell_type": "code",
   "execution_count": 302,
   "metadata": {},
   "outputs": [],
   "source": [
    "nb = GaussianNB()"
   ]
  },
  {
   "cell_type": "code",
   "execution_count": 303,
   "metadata": {},
   "outputs": [
    {
     "data": {
      "text/plain": [
       "GaussianNB(priors=None, var_smoothing=1e-09)"
      ]
     },
     "execution_count": 303,
     "metadata": {},
     "output_type": "execute_result"
    }
   ],
   "source": [
    "nb.fit(X_train,y_train)"
   ]
  },
  {
   "cell_type": "code",
   "execution_count": 304,
   "metadata": {},
   "outputs": [],
   "source": [
    "y_pred = nb.predict(X_test)"
   ]
  },
  {
   "cell_type": "code",
   "execution_count": 305,
   "metadata": {},
   "outputs": [
    {
     "name": "stdout",
     "output_type": "stream",
     "text": [
      "[[117  23]\n",
      " [ 66  94]]\n"
     ]
    }
   ],
   "source": [
    "from sklearn.metrics import confusion_matrix\n",
    "print(confusion_matrix(y_test, y_pred))"
   ]
  },
  {
   "cell_type": "code",
   "execution_count": 306,
   "metadata": {},
   "outputs": [
    {
     "name": "stdout",
     "output_type": "stream",
     "text": [
      "              precision    recall  f1-score   support\n",
      "\n",
      "           0       0.64      0.84      0.72       140\n",
      "           1       0.80      0.59      0.68       160\n",
      "\n",
      "   micro avg       0.70      0.70      0.70       300\n",
      "   macro avg       0.72      0.71      0.70       300\n",
      "weighted avg       0.73      0.70      0.70       300\n",
      "\n"
     ]
    }
   ],
   "source": [
    "from sklearn.metrics import classification_report\n",
    "\n",
    "print(classification_report(y_test, y_pred))"
   ]
  },
  {
   "cell_type": "code",
   "execution_count": 307,
   "metadata": {},
   "outputs": [],
   "source": [
    "from sklearn.metrics import accuracy_score"
   ]
  },
  {
   "cell_type": "code",
   "execution_count": 308,
   "metadata": {},
   "outputs": [
    {
     "data": {
      "text/plain": [
       "0.7033333333333334"
      ]
     },
     "execution_count": 308,
     "metadata": {},
     "output_type": "execute_result"
    }
   ],
   "source": [
    "accuracy_score(y_test,y_pred)"
   ]
  },
  {
   "cell_type": "code",
   "execution_count": 309,
   "metadata": {},
   "outputs": [],
   "source": [
    "sentences = imdb_df['sentence'].tolist()"
   ]
  },
  {
   "cell_type": "code",
   "execution_count": 310,
   "metadata": {},
   "outputs": [],
   "source": [
    "from nltk.tokenize import RegexpTokenizer\n",
    "from nltk.corpus import stopwords\n",
    "from nltk.stem.porter import PorterStemmer"
   ]
  },
  {
   "cell_type": "code",
   "execution_count": 311,
   "metadata": {},
   "outputs": [],
   "source": [
    "def preprocess_data(doc_set):\n",
    "    \"\"\"\n",
    "    Input  : docuemnt list\n",
    "    Purpose: preprocess text (tokenize, removing stopwords, and stemming)\n",
    "    Output : preprocessed text\n",
    "    \"\"\"\n",
    "    # initialize regex tokenizer\n",
    "    tokenizer = RegexpTokenizer(r'\\w+')\n",
    "    # create English stop words list\n",
    "    en_stop = set(stopwords.words('english'))\n",
    "    # Create p_stemmer of class PorterStemmer\n",
    "    p_stemmer = PorterStemmer()\n",
    "    # list for tokenized documents in loop\n",
    "    texts = []\n",
    "    # loop through document list\n",
    "    for i in doc_set:\n",
    "        # clean and tokenize document string\n",
    "        raw = i.lower()\n",
    "        tokens = tokenizer.tokenize(raw)\n",
    "        # remove stop words from tokens\n",
    "        stopped_tokens = [i for i in tokens if not i in en_stop]\n",
    "        # stem tokens\n",
    "        stemmed_tokens = [p_stemmer.stem(i) for i in stopped_tokens]\n",
    "        # add tokens to list\n",
    "        texts.append(stemmed_tokens)\n",
    "    return texts"
   ]
  },
  {
   "cell_type": "code",
   "execution_count": 312,
   "metadata": {},
   "outputs": [],
   "source": [
    "processed = preprocess_data(sentences)"
   ]
  },
  {
   "cell_type": "code",
   "execution_count": 313,
   "metadata": {},
   "outputs": [],
   "source": [
    "token = [\" \".join(token) for token in processed]"
   ]
  },
  {
   "cell_type": "code",
   "execution_count": 314,
   "metadata": {},
   "outputs": [],
   "source": [
    "from sklearn.feature_extraction.text import TfidfVectorizer"
   ]
  },
  {
   "cell_type": "code",
   "execution_count": 315,
   "metadata": {},
   "outputs": [],
   "source": [
    "tfidf = TfidfVectorizer()"
   ]
  },
  {
   "cell_type": "code",
   "execution_count": 316,
   "metadata": {},
   "outputs": [],
   "source": [
    "cv= CountVectorizer()"
   ]
  },
  {
   "cell_type": "code",
   "execution_count": 317,
   "metadata": {},
   "outputs": [
    {
     "data": {
      "text/plain": [
       "CountVectorizer(analyzer='word', binary=False, decode_error='strict',\n",
       "        dtype=<class 'numpy.int64'>, encoding='utf-8', input='content',\n",
       "        lowercase=True, max_df=1.0, max_features=None, min_df=1,\n",
       "        ngram_range=(1, 1), preprocessor=None, stop_words=None,\n",
       "        strip_accents=None, token_pattern='(?u)\\\\b\\\\w\\\\w+\\\\b',\n",
       "        tokenizer=None, vocabulary=None)"
      ]
     },
     "execution_count": 317,
     "metadata": {},
     "output_type": "execute_result"
    }
   ],
   "source": [
    "cv.fit(token)"
   ]
  },
  {
   "cell_type": "code",
   "execution_count": 318,
   "metadata": {},
   "outputs": [],
   "source": [
    "X = cv.transform(token).toarray()"
   ]
  },
  {
   "cell_type": "code",
   "execution_count": 319,
   "metadata": {},
   "outputs": [],
   "source": [
    "y = imdb_df['label']"
   ]
  },
  {
   "cell_type": "code",
   "execution_count": 320,
   "metadata": {},
   "outputs": [],
   "source": [
    "X_train, X_test, y_train, y_test = tts(X,y,test_size= 0.2,random_state =42)"
   ]
  },
  {
   "cell_type": "code",
   "execution_count": 321,
   "metadata": {},
   "outputs": [],
   "source": [
    "from sklearn.naive_bayes import MultinomialNB"
   ]
  },
  {
   "cell_type": "code",
   "execution_count": 322,
   "metadata": {},
   "outputs": [],
   "source": [
    "multinomialnb = MultinomialNB()"
   ]
  },
  {
   "cell_type": "code",
   "execution_count": 323,
   "metadata": {},
   "outputs": [
    {
     "data": {
      "text/plain": [
       "MultinomialNB(alpha=1.0, class_prior=None, fit_prior=True)"
      ]
     },
     "execution_count": 323,
     "metadata": {},
     "output_type": "execute_result"
    }
   ],
   "source": [
    "multinomialnb.fit(X_train,y_train)"
   ]
  },
  {
   "cell_type": "code",
   "execution_count": 324,
   "metadata": {},
   "outputs": [],
   "source": [
    "ypred= multinomialnb.predict(X_test)"
   ]
  },
  {
   "cell_type": "code",
   "execution_count": 325,
   "metadata": {},
   "outputs": [
    {
     "data": {
      "text/plain": [
       "0.815"
      ]
     },
     "execution_count": 325,
     "metadata": {},
     "output_type": "execute_result"
    }
   ],
   "source": [
    "accuracy_score(y_test,ypred)"
   ]
  },
  {
   "cell_type": "code",
   "execution_count": 326,
   "metadata": {},
   "outputs": [],
   "source": [
    "from sklearn.linear_model import LogisticRegression"
   ]
  },
  {
   "cell_type": "code",
   "execution_count": 327,
   "metadata": {},
   "outputs": [],
   "source": [
    "log_reg = LogisticRegression()"
   ]
  },
  {
   "cell_type": "code",
   "execution_count": 328,
   "metadata": {},
   "outputs": [
    {
     "name": "stderr",
     "output_type": "stream",
     "text": [
      "C:\\Users\\Shardul Janaskar\\Anaconda3\\lib\\site-packages\\sklearn\\linear_model\\logistic.py:433: FutureWarning: Default solver will be changed to 'lbfgs' in 0.22. Specify a solver to silence this warning.\n",
      "  FutureWarning)\n"
     ]
    },
    {
     "data": {
      "text/plain": [
       "LogisticRegression(C=1.0, class_weight=None, dual=False, fit_intercept=True,\n",
       "          intercept_scaling=1, max_iter=100, multi_class='warn',\n",
       "          n_jobs=None, penalty='l2', random_state=None, solver='warn',\n",
       "          tol=0.0001, verbose=0, warm_start=False)"
      ]
     },
     "execution_count": 328,
     "metadata": {},
     "output_type": "execute_result"
    }
   ],
   "source": [
    "log_reg.fit(X_train,y_train)"
   ]
  },
  {
   "cell_type": "code",
   "execution_count": 329,
   "metadata": {},
   "outputs": [
    {
     "data": {
      "text/plain": [
       "array([0, 0, 0, 1, 1, 1, 0, 0, 1, 0, 1, 0, 1, 1, 1, 1, 1, 1, 1, 1, 1, 0,\n",
       "       0, 0, 1, 0, 0, 0, 0, 1, 1, 0, 1, 1, 0, 0, 1, 0, 0, 1, 0, 1, 1, 0,\n",
       "       1, 1, 0, 1, 0, 0, 1, 0, 0, 0, 1, 1, 1, 1, 0, 1, 0, 0, 1, 0, 0, 1,\n",
       "       1, 1, 1, 1, 1, 0, 0, 1, 1, 0, 1, 0, 0, 1, 1, 0, 1, 0, 1, 0, 0, 1,\n",
       "       1, 0, 1, 0, 0, 1, 1, 0, 1, 1, 1, 1, 0, 0, 1, 1, 1, 0, 1, 0, 1, 1,\n",
       "       0, 0, 1, 1, 1, 0, 0, 0, 0, 1, 0, 0, 1, 0, 0, 0, 1, 0, 1, 1, 1, 0,\n",
       "       1, 0, 0, 0, 1, 1, 1, 0, 0, 1, 0, 0, 1, 1, 1, 0, 1, 1, 1, 1, 0, 0,\n",
       "       1, 1, 0, 0, 1, 0, 0, 0, 1, 1, 0, 0, 1, 0, 0, 0, 0, 0, 1, 0, 1, 1,\n",
       "       0, 1, 0, 0, 1, 1, 1, 0, 1, 0, 1, 0, 1, 1, 1, 1, 1, 1, 0, 0, 0, 1,\n",
       "       0, 1], dtype=int64)"
      ]
     },
     "execution_count": 329,
     "metadata": {},
     "output_type": "execute_result"
    }
   ],
   "source": [
    "log_reg.predict(X_test)"
   ]
  },
  {
   "cell_type": "code",
   "execution_count": 330,
   "metadata": {},
   "outputs": [
    {
     "data": {
      "text/plain": [
       "0.79"
      ]
     },
     "execution_count": 330,
     "metadata": {},
     "output_type": "execute_result"
    }
   ],
   "source": [
    "accuracy_score(y_test,log_reg.predict(X_test))"
   ]
  },
  {
   "cell_type": "code",
   "execution_count": 331,
   "metadata": {},
   "outputs": [],
   "source": [
    "from keras.models import Sequential\n",
    "from keras import layers\n",
    "from keras.utils.np_utils import to_categorical"
   ]
  },
  {
   "cell_type": "code",
   "execution_count": 332,
   "metadata": {},
   "outputs": [],
   "source": [
    "ip_dim = X_train.shape[1]\n",
    "y_train = to_categorical(y_train)\n",
    "y_test = to_categorical(y_test)"
   ]
  },
  {
   "cell_type": "code",
   "execution_count": 333,
   "metadata": {},
   "outputs": [],
   "source": [
    "model = Sequential()"
   ]
  },
  {
   "cell_type": "code",
   "execution_count": 334,
   "metadata": {},
   "outputs": [],
   "source": [
    "model.add(layers.Dense(10,input_dim = ip_dim,activation = 'relu'))\n",
    "model.add(layers.Dense(2,activation ='softmax'))"
   ]
  },
  {
   "cell_type": "code",
   "execution_count": 335,
   "metadata": {},
   "outputs": [
    {
     "name": "stdout",
     "output_type": "stream",
     "text": [
      "_________________________________________________________________\n",
      "Layer (type)                 Output Shape              Param #   \n",
      "=================================================================\n",
      "dense_16 (Dense)             (None, 10)                24100     \n",
      "_________________________________________________________________\n",
      "dense_17 (Dense)             (None, 2)                 22        \n",
      "=================================================================\n",
      "Total params: 24,122\n",
      "Trainable params: 24,122\n",
      "Non-trainable params: 0\n",
      "_________________________________________________________________\n"
     ]
    }
   ],
   "source": [
    "model.compile(optimizer = 'adam', loss = 'binary_crossentropy',metrics = ['accuracy'])\n",
    "model.summary()"
   ]
  },
  {
   "cell_type": "code",
   "execution_count": 336,
   "metadata": {},
   "outputs": [
    {
     "name": "stdout",
     "output_type": "stream",
     "text": [
      "Train on 680 samples, validate on 120 samples\n",
      "Epoch 1/100\n",
      "680/680 [==============================] - 1s 1ms/step - loss: 0.6917 - acc: 0.5676 - val_loss: 0.6824 - val_acc: 0.6833\n",
      "Epoch 2/100\n",
      "680/680 [==============================] - 0s 250us/step - loss: 0.6433 - acc: 0.8294 - val_loss: 0.6398 - val_acc: 0.7667\n",
      "Epoch 3/100\n",
      "680/680 [==============================] - 0s 234us/step - loss: 0.5455 - acc: 0.9044 - val_loss: 0.5512 - val_acc: 0.8583\n",
      "Epoch 4/100\n",
      "680/680 [==============================] - 0s 241us/step - loss: 0.4093 - acc: 0.9397 - val_loss: 0.4714 - val_acc: 0.8500\n",
      "Epoch 5/100\n",
      "680/680 [==============================] - 0s 255us/step - loss: 0.3007 - acc: 0.9515 - val_loss: 0.4074 - val_acc: 0.8833\n",
      "Epoch 6/100\n",
      "680/680 [==============================] - 0s 277us/step - loss: 0.2268 - acc: 0.9559 - val_loss: 0.3688 - val_acc: 0.9000\n",
      "Epoch 7/100\n",
      "680/680 [==============================] - 0s 294us/step - loss: 0.1780 - acc: 0.9647 - val_loss: 0.3411 - val_acc: 0.8750\n",
      "Epoch 8/100\n",
      "680/680 [==============================] - 0s 277us/step - loss: 0.1445 - acc: 0.9706 - val_loss: 0.3225 - val_acc: 0.8583\n",
      "Epoch 9/100\n",
      "680/680 [==============================] - 0s 327us/step - loss: 0.1211 - acc: 0.9721 - val_loss: 0.3099 - val_acc: 0.8750\n",
      "Epoch 10/100\n",
      "680/680 [==============================] - 0s 336us/step - loss: 0.1030 - acc: 0.9779 - val_loss: 0.2997 - val_acc: 0.8833\n",
      "Epoch 11/100\n",
      "680/680 [==============================] - 0s 281us/step - loss: 0.0893 - acc: 0.9794 - val_loss: 0.2925 - val_acc: 0.8833\n",
      "Epoch 12/100\n",
      "680/680 [==============================] - 0s 280us/step - loss: 0.0786 - acc: 0.9853 - val_loss: 0.2860 - val_acc: 0.8917\n",
      "Epoch 13/100\n",
      "680/680 [==============================] - 0s 341us/step - loss: 0.0701 - acc: 0.9882 - val_loss: 0.2836 - val_acc: 0.8917\n",
      "Epoch 14/100\n",
      "680/680 [==============================] - 0s 338us/step - loss: 0.0629 - acc: 0.9882 - val_loss: 0.2807 - val_acc: 0.9000\n",
      "Epoch 15/100\n",
      "680/680 [==============================] - 0s 315us/step - loss: 0.0573 - acc: 0.9897 - val_loss: 0.2804 - val_acc: 0.9000\n",
      "Epoch 16/100\n",
      "680/680 [==============================] - 0s 347us/step - loss: 0.0523 - acc: 0.9897 - val_loss: 0.2796 - val_acc: 0.9000\n",
      "Epoch 17/100\n",
      "680/680 [==============================] - 0s 325us/step - loss: 0.0481 - acc: 0.9897 - val_loss: 0.2783 - val_acc: 0.9000\n",
      "Epoch 18/100\n",
      "680/680 [==============================] - 0s 340us/step - loss: 0.0446 - acc: 0.9897 - val_loss: 0.2797 - val_acc: 0.8917\n",
      "Epoch 19/100\n",
      "680/680 [==============================] - 0s 305us/step - loss: 0.0413 - acc: 0.9897 - val_loss: 0.2806 - val_acc: 0.8917\n",
      "Epoch 20/100\n",
      "680/680 [==============================] - 0s 330us/step - loss: 0.0387 - acc: 0.9897 - val_loss: 0.2809 - val_acc: 0.8917\n",
      "Epoch 21/100\n",
      "680/680 [==============================] - 0s 311us/step - loss: 0.0363 - acc: 0.9912 - val_loss: 0.2857 - val_acc: 0.8750\n",
      "Epoch 22/100\n",
      "680/680 [==============================] - 0s 331us/step - loss: 0.0338 - acc: 0.9912 - val_loss: 0.2879 - val_acc: 0.8750\n",
      "Epoch 23/100\n",
      "680/680 [==============================] - 0s 312us/step - loss: 0.0319 - acc: 0.9897 - val_loss: 0.2891 - val_acc: 0.8833\n",
      "Epoch 24/100\n",
      "680/680 [==============================] - 0s 281us/step - loss: 0.0300 - acc: 0.9912 - val_loss: 0.2928 - val_acc: 0.8750\n",
      "Epoch 25/100\n",
      "680/680 [==============================] - 0s 280us/step - loss: 0.0287 - acc: 0.9912 - val_loss: 0.2970 - val_acc: 0.8833\n",
      "Epoch 26/100\n",
      "680/680 [==============================] - 0s 285us/step - loss: 0.0269 - acc: 0.9912 - val_loss: 0.2998 - val_acc: 0.8833\n",
      "Epoch 27/100\n",
      "680/680 [==============================] - 0s 327us/step - loss: 0.0257 - acc: 0.9912 - val_loss: 0.3048 - val_acc: 0.8917\n",
      "Epoch 28/100\n",
      "680/680 [==============================] - 0s 297us/step - loss: 0.0242 - acc: 0.9926 - val_loss: 0.3053 - val_acc: 0.8833\n",
      "Epoch 29/100\n",
      "680/680 [==============================] - 0s 284us/step - loss: 0.0230 - acc: 0.9926 - val_loss: 0.3107 - val_acc: 0.8833\n",
      "Epoch 30/100\n",
      "680/680 [==============================] - 0s 288us/step - loss: 0.0219 - acc: 0.9926 - val_loss: 0.3126 - val_acc: 0.8833\n",
      "Epoch 31/100\n",
      "680/680 [==============================] - 0s 343us/step - loss: 0.0208 - acc: 0.9926 - val_loss: 0.3194 - val_acc: 0.8833\n",
      "Epoch 32/100\n",
      "680/680 [==============================] - 0s 306us/step - loss: 0.0198 - acc: 0.9941 - val_loss: 0.3229 - val_acc: 0.8833\n",
      "Epoch 33/100\n",
      "680/680 [==============================] - 0s 272us/step - loss: 0.0188 - acc: 0.9941 - val_loss: 0.3293 - val_acc: 0.8917\n",
      "Epoch 34/100\n",
      "680/680 [==============================] - 0s 278us/step - loss: 0.0182 - acc: 0.9941 - val_loss: 0.3310 - val_acc: 0.8917\n",
      "Epoch 35/100\n",
      "680/680 [==============================] - 0s 269us/step - loss: 0.0173 - acc: 0.9956 - val_loss: 0.3360 - val_acc: 0.8917\n",
      "Epoch 36/100\n",
      "680/680 [==============================] - 0s 283us/step - loss: 0.0165 - acc: 0.9956 - val_loss: 0.3425 - val_acc: 0.8917\n",
      "Epoch 37/100\n",
      "680/680 [==============================] - 0s 266us/step - loss: 0.0157 - acc: 0.9956 - val_loss: 0.3478 - val_acc: 0.8917\n",
      "Epoch 38/100\n",
      "680/680 [==============================] - 0s 287us/step - loss: 0.0152 - acc: 0.9956 - val_loss: 0.3536 - val_acc: 0.8917\n",
      "Epoch 39/100\n",
      "680/680 [==============================] - 0s 281us/step - loss: 0.0147 - acc: 0.9956 - val_loss: 0.3584 - val_acc: 0.8833\n",
      "Epoch 40/100\n",
      "680/680 [==============================] - 0s 288us/step - loss: 0.0141 - acc: 0.9956 - val_loss: 0.3650 - val_acc: 0.8833\n",
      "Epoch 41/100\n",
      "680/680 [==============================] - 0s 283us/step - loss: 0.0135 - acc: 0.9956 - val_loss: 0.3709 - val_acc: 0.8750\n",
      "Epoch 42/100\n",
      "680/680 [==============================] - 0s 268us/step - loss: 0.0130 - acc: 0.9956 - val_loss: 0.3754 - val_acc: 0.8750\n",
      "Epoch 43/100\n",
      "680/680 [==============================] - 0s 300us/step - loss: 0.0126 - acc: 0.9971 - val_loss: 0.3844 - val_acc: 0.8750\n",
      "Epoch 44/100\n",
      "680/680 [==============================] - 0s 272us/step - loss: 0.0123 - acc: 0.9971 - val_loss: 0.3847 - val_acc: 0.8750\n",
      "Epoch 45/100\n",
      "680/680 [==============================] - 0s 281us/step - loss: 0.0119 - acc: 0.9971 - val_loss: 0.3952 - val_acc: 0.8750\n",
      "Epoch 46/100\n",
      "680/680 [==============================] - 0s 285us/step - loss: 0.0115 - acc: 0.9971 - val_loss: 0.3997 - val_acc: 0.8750\n",
      "Epoch 47/100\n",
      "680/680 [==============================] - 0s 290us/step - loss: 0.0111 - acc: 0.9971 - val_loss: 0.4053 - val_acc: 0.8750\n",
      "Epoch 48/100\n",
      "680/680 [==============================] - 0s 271us/step - loss: 0.0107 - acc: 0.9971 - val_loss: 0.4160 - val_acc: 0.8750\n",
      "Epoch 49/100\n",
      "680/680 [==============================] - 0s 287us/step - loss: 0.0105 - acc: 0.9971 - val_loss: 0.4203 - val_acc: 0.8750\n",
      "Epoch 50/100\n",
      "680/680 [==============================] - 0s 278us/step - loss: 0.0102 - acc: 0.9971 - val_loss: 0.4270 - val_acc: 0.8750\n",
      "Epoch 51/100\n",
      "680/680 [==============================] - 0s 293us/step - loss: 0.0099 - acc: 0.9971 - val_loss: 0.4297 - val_acc: 0.8750\n",
      "Epoch 52/100\n",
      "680/680 [==============================] - 0s 300us/step - loss: 0.0097 - acc: 0.9971 - val_loss: 0.4374 - val_acc: 0.8750\n",
      "Epoch 53/100\n",
      "680/680 [==============================] - 0s 280us/step - loss: 0.0095 - acc: 0.9971 - val_loss: 0.4442 - val_acc: 0.8750\n",
      "Epoch 54/100\n",
      "680/680 [==============================] - 0s 249us/step - loss: 0.0091 - acc: 0.9971 - val_loss: 0.4517 - val_acc: 0.8750\n",
      "Epoch 55/100\n",
      "680/680 [==============================] - 0s 272us/step - loss: 0.0093 - acc: 0.9971 - val_loss: 0.4595 - val_acc: 0.8750\n",
      "Epoch 56/100\n",
      "680/680 [==============================] - 0s 259us/step - loss: 0.0089 - acc: 0.9971 - val_loss: 0.4650 - val_acc: 0.8750\n",
      "Epoch 57/100\n",
      "680/680 [==============================] - 0s 263us/step - loss: 0.0087 - acc: 0.9971 - val_loss: 0.4688 - val_acc: 0.8750\n",
      "Epoch 58/100\n",
      "680/680 [==============================] - 0s 250us/step - loss: 0.0085 - acc: 0.9971 - val_loss: 0.4759 - val_acc: 0.8750\n",
      "Epoch 59/100\n",
      "680/680 [==============================] - 0s 288us/step - loss: 0.0084 - acc: 0.9971 - val_loss: 0.4869 - val_acc: 0.8750\n",
      "Epoch 60/100\n",
      "680/680 [==============================] - 0s 281us/step - loss: 0.0082 - acc: 0.9971 - val_loss: 0.4877 - val_acc: 0.8750\n"
     ]
    },
    {
     "name": "stdout",
     "output_type": "stream",
     "text": [
      "Epoch 61/100\n",
      "680/680 [==============================] - 0s 249us/step - loss: 0.0081 - acc: 0.9971 - val_loss: 0.4958 - val_acc: 0.8750\n",
      "Epoch 62/100\n",
      "680/680 [==============================] - 0s 246us/step - loss: 0.0079 - acc: 0.9971 - val_loss: 0.4985 - val_acc: 0.8750\n",
      "Epoch 63/100\n",
      "680/680 [==============================] - 0s 322us/step - loss: 0.0078 - acc: 0.9971 - val_loss: 0.5079 - val_acc: 0.8667\n",
      "Epoch 64/100\n",
      "680/680 [==============================] - 0s 249us/step - loss: 0.0075 - acc: 0.9971 - val_loss: 0.5160 - val_acc: 0.8667\n",
      "Epoch 65/100\n",
      "680/680 [==============================] - 0s 238us/step - loss: 0.0073 - acc: 0.9971 - val_loss: 0.5227 - val_acc: 0.8667\n",
      "Epoch 66/100\n",
      "680/680 [==============================] - 0s 233us/step - loss: 0.0073 - acc: 0.9971 - val_loss: 0.5296 - val_acc: 0.8667\n",
      "Epoch 67/100\n",
      "680/680 [==============================] - 0s 228us/step - loss: 0.0072 - acc: 0.9971 - val_loss: 0.5332 - val_acc: 0.8667\n",
      "Epoch 68/100\n",
      "680/680 [==============================] - 0s 234us/step - loss: 0.0071 - acc: 0.9971 - val_loss: 0.5431 - val_acc: 0.8667\n",
      "Epoch 69/100\n",
      "680/680 [==============================] - 0s 246us/step - loss: 0.0070 - acc: 0.9971 - val_loss: 0.5513 - val_acc: 0.8667\n",
      "Epoch 70/100\n",
      "680/680 [==============================] - 0s 235us/step - loss: 0.0068 - acc: 0.9971 - val_loss: 0.5551 - val_acc: 0.8667\n",
      "Epoch 71/100\n",
      "680/680 [==============================] - 0s 230us/step - loss: 0.0067 - acc: 0.9971 - val_loss: 0.5603 - val_acc: 0.8667\n",
      "Epoch 72/100\n",
      "680/680 [==============================] - 0s 252us/step - loss: 0.0067 - acc: 0.9985 - val_loss: 0.5637 - val_acc: 0.8667\n",
      "Epoch 73/100\n",
      "680/680 [==============================] - 0s 230us/step - loss: 0.0069 - acc: 0.9971 - val_loss: 0.5747 - val_acc: 0.8667\n",
      "Epoch 74/100\n",
      "680/680 [==============================] - 0s 243us/step - loss: 0.0065 - acc: 0.9985 - val_loss: 0.5825 - val_acc: 0.8667\n",
      "Epoch 75/100\n",
      "680/680 [==============================] - 0s 249us/step - loss: 0.0064 - acc: 0.9985 - val_loss: 0.5849 - val_acc: 0.8667\n",
      "Epoch 76/100\n",
      "680/680 [==============================] - 0s 237us/step - loss: 0.0064 - acc: 0.9985 - val_loss: 0.5924 - val_acc: 0.8667\n",
      "Epoch 77/100\n",
      "680/680 [==============================] - 0s 235us/step - loss: 0.0062 - acc: 0.9985 - val_loss: 0.5961 - val_acc: 0.8667\n",
      "Epoch 78/100\n",
      "680/680 [==============================] - 0s 228us/step - loss: 0.0062 - acc: 0.9985 - val_loss: 0.6038 - val_acc: 0.8667\n",
      "Epoch 79/100\n",
      "680/680 [==============================] - 0s 309us/step - loss: 0.0061 - acc: 0.9985 - val_loss: 0.6053 - val_acc: 0.8667\n",
      "Epoch 80/100\n",
      "680/680 [==============================] - 0s 274us/step - loss: 0.0061 - acc: 0.9985 - val_loss: 0.6203 - val_acc: 0.8667\n",
      "Epoch 81/100\n",
      "680/680 [==============================] - 0s 309us/step - loss: 0.0060 - acc: 0.9985 - val_loss: 0.6211 - val_acc: 0.8667\n",
      "Epoch 82/100\n",
      "680/680 [==============================] - 0s 308us/step - loss: 0.0060 - acc: 0.9985 - val_loss: 0.6320 - val_acc: 0.8667\n",
      "Epoch 83/100\n",
      "680/680 [==============================] - 0s 235us/step - loss: 0.0059 - acc: 0.9985 - val_loss: 0.6343 - val_acc: 0.8667\n",
      "Epoch 84/100\n",
      "680/680 [==============================] - 0s 258us/step - loss: 0.0057 - acc: 0.9985 - val_loss: 0.6405 - val_acc: 0.8667\n",
      "Epoch 85/100\n",
      "680/680 [==============================] - 0s 343us/step - loss: 0.0058 - acc: 0.9985 - val_loss: 0.6432 - val_acc: 0.8667\n",
      "Epoch 86/100\n",
      "680/680 [==============================] - 0s 302us/step - loss: 0.0058 - acc: 0.9985 - val_loss: 0.6510 - val_acc: 0.8667\n",
      "Epoch 87/100\n",
      "680/680 [==============================] - 0s 230us/step - loss: 0.0055 - acc: 0.9985 - val_loss: 0.6560 - val_acc: 0.8667\n",
      "Epoch 88/100\n",
      "680/680 [==============================] - 0s 241us/step - loss: 0.0057 - acc: 0.9985 - val_loss: 0.6637 - val_acc: 0.8667\n",
      "Epoch 89/100\n",
      "680/680 [==============================] - 0s 269us/step - loss: 0.0055 - acc: 0.9985 - val_loss: 0.6728 - val_acc: 0.8667\n",
      "Epoch 90/100\n",
      "680/680 [==============================] - 0s 262us/step - loss: 0.0056 - acc: 0.9985 - val_loss: 0.6766 - val_acc: 0.8583\n",
      "Epoch 91/100\n",
      "680/680 [==============================] - 0s 233us/step - loss: 0.0055 - acc: 0.9985 - val_loss: 0.6800 - val_acc: 0.8583\n",
      "Epoch 92/100\n",
      "680/680 [==============================] - 0s 235us/step - loss: 0.0055 - acc: 0.9985 - val_loss: 0.6805 - val_acc: 0.8583\n",
      "Epoch 93/100\n",
      "680/680 [==============================] - 0s 235us/step - loss: 0.0054 - acc: 0.9985 - val_loss: 0.6930 - val_acc: 0.8583\n",
      "Epoch 94/100\n",
      "680/680 [==============================] - 0s 238us/step - loss: 0.0053 - acc: 0.9985 - val_loss: 0.6976 - val_acc: 0.8583\n",
      "Epoch 95/100\n",
      "680/680 [==============================] - 0s 243us/step - loss: 0.0052 - acc: 0.9985 - val_loss: 0.7002 - val_acc: 0.8583\n",
      "Epoch 96/100\n",
      "680/680 [==============================] - 0s 246us/step - loss: 0.0051 - acc: 0.9985 - val_loss: 0.7064 - val_acc: 0.8583\n",
      "Epoch 97/100\n",
      "680/680 [==============================] - 0s 275us/step - loss: 0.0053 - acc: 0.9985 - val_loss: 0.7156 - val_acc: 0.8583\n",
      "Epoch 98/100\n",
      "680/680 [==============================] - 0s 308us/step - loss: 0.0050 - acc: 0.9985 - val_loss: 0.7207 - val_acc: 0.8583\n",
      "Epoch 99/100\n",
      "680/680 [==============================] - 0s 303us/step - loss: 0.0051 - acc: 0.9985 - val_loss: 0.7202 - val_acc: 0.8583\n",
      "Epoch 100/100\n",
      "680/680 [==============================] - 0s 287us/step - loss: 0.0050 - acc: 0.9985 - val_loss: 0.7301 - val_acc: 0.8583\n"
     ]
    },
    {
     "ename": "TypeError",
     "evalue": "must be str, not numpy.float64",
     "output_type": "error",
     "traceback": [
      "\u001b[1;31m---------------------------------------------------------------------------\u001b[0m",
      "\u001b[1;31mTypeError\u001b[0m                                 Traceback (most recent call last)",
      "\u001b[1;32m<ipython-input-336-c6d57fc36bab>\u001b[0m in \u001b[0;36m<module>\u001b[1;34m()\u001b[0m\n\u001b[0;32m      1\u001b[0m \u001b[0mhistory\u001b[0m \u001b[1;33m=\u001b[0m \u001b[0mmodel\u001b[0m\u001b[1;33m.\u001b[0m\u001b[0mfit\u001b[0m\u001b[1;33m(\u001b[0m\u001b[0mX_train\u001b[0m\u001b[1;33m,\u001b[0m\u001b[0my_train\u001b[0m\u001b[1;33m,\u001b[0m\u001b[0mepochs\u001b[0m \u001b[1;33m=\u001b[0m \u001b[1;36m100\u001b[0m\u001b[1;33m,\u001b[0m\u001b[0mvalidation_split\u001b[0m\u001b[1;33m=\u001b[0m \u001b[1;36m0.15\u001b[0m\u001b[1;33m,\u001b[0m\u001b[0mbatch_size\u001b[0m\u001b[1;33m=\u001b[0m\u001b[1;36m10\u001b[0m\u001b[1;33m)\u001b[0m\u001b[1;33m\u001b[0m\u001b[0m\n\u001b[0;32m      2\u001b[0m \u001b[0mloss\u001b[0m\u001b[1;33m,\u001b[0m\u001b[0maccuracy\u001b[0m \u001b[1;33m=\u001b[0m \u001b[0mmodel\u001b[0m\u001b[1;33m.\u001b[0m\u001b[0mevaluate\u001b[0m\u001b[1;33m(\u001b[0m\u001b[0mX_train\u001b[0m\u001b[1;33m,\u001b[0m\u001b[0my_train\u001b[0m\u001b[1;33m,\u001b[0m\u001b[0mverbose\u001b[0m \u001b[1;33m=\u001b[0m\u001b[1;32mFalse\u001b[0m\u001b[1;33m)\u001b[0m\u001b[1;33m\u001b[0m\u001b[0m\n\u001b[1;32m----> 3\u001b[1;33m \u001b[0mprint\u001b[0m\u001b[1;33m(\u001b[0m\u001b[1;34m\"train_accuracy:\"\u001b[0m \u001b[1;33m+\u001b[0m\u001b[0maccuracy\u001b[0m\u001b[1;33m)\u001b[0m\u001b[1;33m\u001b[0m\u001b[0m\n\u001b[0m\u001b[0;32m      4\u001b[0m \u001b[0mloss\u001b[0m\u001b[1;33m,\u001b[0m\u001b[0maccuracy\u001b[0m \u001b[1;33m=\u001b[0m \u001b[0mmodel\u001b[0m\u001b[1;33m.\u001b[0m\u001b[0mevaluate\u001b[0m\u001b[1;33m(\u001b[0m\u001b[0mX_test\u001b[0m\u001b[1;33m,\u001b[0m\u001b[0my_test\u001b[0m\u001b[1;33m,\u001b[0m\u001b[0mverbose\u001b[0m \u001b[1;33m=\u001b[0m\u001b[1;32mFalse\u001b[0m\u001b[1;33m)\u001b[0m\u001b[1;33m\u001b[0m\u001b[0m\n\u001b[0;32m      5\u001b[0m \u001b[0mprint\u001b[0m\u001b[1;33m(\u001b[0m\u001b[1;34m\"test_accuracy:\"\u001b[0m \u001b[1;33m+\u001b[0m\u001b[0maccuracy\u001b[0m\u001b[1;33m)\u001b[0m\u001b[1;33m\u001b[0m\u001b[0m\n",
      "\u001b[1;31mTypeError\u001b[0m: must be str, not numpy.float64"
     ]
    }
   ],
   "source": [
    "history = model.fit(X_train,y_train,epochs = 100,validation_split= 0.15,batch_size=10)\n",
    "loss,accuracy = model.evaluate(X_train,y_train,verbose =False)\n",
    "print(\"train_accuracy:\" +accuracy)\n",
    "loss,accuracy = model.evaluate(X_test,y_test,verbose =False)\n",
    "print(\"test_accuracy:\" +accuracy)\n"
   ]
  },
  {
   "cell_type": "code",
   "execution_count": 337,
   "metadata": {},
   "outputs": [],
   "source": [
    "import matplotlib.pyplot as plt\n",
    "plt.style.use('ggplot')\n",
    "\n"
   ]
  },
  {
   "cell_type": "code",
   "execution_count": 338,
   "metadata": {},
   "outputs": [],
   "source": [
    "def plot_history(history):\n",
    "    acc = history.history['acc']\n",
    "    val_acc = history.history['val_acc']\n",
    "    loss = history.history['loss']\n",
    "    val_loss = history.history['val_loss']\n",
    "    x = range(1,len(acc)+1)\n",
    "    plt.figure(figsize=(12,5))\n",
    "    plt.subplot(1,2,1)\n",
    "    plt.plot(x,acc,'b',label= 'training_acc')\n",
    "    plt.plot(x,val_acc,'r',label= 'val_acc')\n",
    "    plt.title(\"training and val acc\")\n",
    "    plt.legend()\n",
    "    plt.subplot(1,2,2)\n",
    "    plt.plot(x,loss,'b',label= 'training_loss')\n",
    "    plt.plot(x,val_loss,'r',label= 'val_loss')\n",
    "    plt.title(\"training and val loss\")\n",
    "    plt.legend()\n",
    "    "
   ]
  },
  {
   "cell_type": "code",
   "execution_count": 339,
   "metadata": {},
   "outputs": [
    {
     "data": {
      "image/png": "[encoded data removed]",
      "text/plain": [
       "<Figure size 864x360 with 2 Axes>"
      ]
     },
     "metadata": {},
     "output_type": "display_data"
    }
   ],
   "source": [
    "plot_history(history)"
   ]
  },
  {
   "cell_type": "code",
   "execution_count": 340,
   "metadata": {},
   "outputs": [],
   "source": [
    "sents = imdb_df['sentence'].values\n",
    "y = imdb_df['label'].values\n",
    "sents_train, sents_test,y_train,y_test = tts(sents,y,test_size = 0.25,random_state = 1000)"
   ]
  },
  {
   "cell_type": "code",
   "execution_count": 341,
   "metadata": {},
   "outputs": [],
   "source": [
    "from keras.preprocessing.text import Tokenizer"
   ]
  },
  {
   "cell_type": "code",
   "execution_count": 342,
   "metadata": {},
   "outputs": [],
   "source": [
    "tokenizer = Tokenizer(num_words = 5000)\n",
    "tokenizer.fit_on_texts(sents_train)"
   ]
  },
  {
   "cell_type": "code",
   "execution_count": 343,
   "metadata": {},
   "outputs": [],
   "source": [
    "X_train = tokenizer.texts_to_sequences(sents_train)\n",
    "X_test = tokenizer.texts_to_sequences(sents_test)"
   ]
  },
  {
   "cell_type": "code",
   "execution_count": 344,
   "metadata": {},
   "outputs": [],
   "source": [
    "vocab_size = len(tokenizer.word_index)+1"
   ]
  },
  {
   "cell_type": "code",
   "execution_count": 345,
   "metadata": {},
   "outputs": [],
   "source": [
    "from keras.preprocessing.sequence import pad_sequences\n",
    "maxlen = 1000\n",
    "X_train = pad_sequences(X_train,padding ='post',maxlen = maxlen)\n",
    "X_test = pad_sequences(X_test,padding ='post',maxlen = maxlen)"
   ]
  },
  {
   "cell_type": "code",
   "execution_count": 346,
   "metadata": {},
   "outputs": [
    {
     "name": "stdout",
     "output_type": "stream",
     "text": [
      "[ 64  35 123   3 315 409   0   0   0   0   0   0   0   0   0   0   0   0\n",
      "   0   0   0   0   0   0   0   0   0   0   0   0   0   0   0   0   0   0\n",
      "   0   0   0   0   0   0   0   0   0   0   0   0   0   0   0   0   0   0\n",
      "   0   0   0   0   0   0   0   0   0   0   0   0   0   0   0   0   0   0\n",
      "   0   0   0   0   0   0   0   0   0   0   0   0   0   0   0   0   0   0\n",
      "   0   0   0   0   0   0   0   0   0   0   0   0   0   0   0   0   0   0\n",
      "   0   0   0   0   0   0   0   0   0   0   0   0   0   0   0   0   0   0\n",
      "   0   0   0   0   0   0   0   0   0   0   0   0   0   0   0   0   0   0\n",
      "   0   0   0   0   0   0   0   0   0   0   0   0   0   0   0   0   0   0\n",
      "   0   0   0   0   0   0   0   0   0   0   0   0   0   0   0   0   0   0\n",
      "   0   0   0   0   0   0   0   0   0   0   0   0   0   0   0   0   0   0\n",
      "   0   0   0   0   0   0   0   0   0   0   0   0   0   0   0   0   0   0\n",
      "   0   0   0   0   0   0   0   0   0   0   0   0   0   0   0   0   0   0\n",
      "   0   0   0   0   0   0   0   0   0   0   0   0   0   0   0   0   0   0\n",
      "   0   0   0   0   0   0   0   0   0   0   0   0   0   0   0   0   0   0\n",
      "   0   0   0   0   0   0   0   0   0   0   0   0   0   0   0   0   0   0\n",
      "   0   0   0   0   0   0   0   0   0   0   0   0   0   0   0   0   0   0\n",
      "   0   0   0   0   0   0   0   0   0   0   0   0   0   0   0   0   0   0\n",
      "   0   0   0   0   0   0   0   0   0   0   0   0   0   0   0   0   0   0\n",
      "   0   0   0   0   0   0   0   0   0   0   0   0   0   0   0   0   0   0\n",
      "   0   0   0   0   0   0   0   0   0   0   0   0   0   0   0   0   0   0\n",
      "   0   0   0   0   0   0   0   0   0   0   0   0   0   0   0   0   0   0\n",
      "   0   0   0   0   0   0   0   0   0   0   0   0   0   0   0   0   0   0\n",
      "   0   0   0   0   0   0   0   0   0   0   0   0   0   0   0   0   0   0\n",
      "   0   0   0   0   0   0   0   0   0   0   0   0   0   0   0   0   0   0\n",
      "   0   0   0   0   0   0   0   0   0   0   0   0   0   0   0   0   0   0\n",
      "   0   0   0   0   0   0   0   0   0   0   0   0   0   0   0   0   0   0\n",
      "   0   0   0   0   0   0   0   0   0   0   0   0   0   0   0   0   0   0\n",
      "   0   0   0   0   0   0   0   0   0   0   0   0   0   0   0   0   0   0\n",
      "   0   0   0   0   0   0   0   0   0   0   0   0   0   0   0   0   0   0\n",
      "   0   0   0   0   0   0   0   0   0   0   0   0   0   0   0   0   0   0\n",
      "   0   0   0   0   0   0   0   0   0   0   0   0   0   0   0   0   0   0\n",
      "   0   0   0   0   0   0   0   0   0   0   0   0   0   0   0   0   0   0\n",
      "   0   0   0   0   0   0   0   0   0   0   0   0   0   0   0   0   0   0\n",
      "   0   0   0   0   0   0   0   0   0   0   0   0   0   0   0   0   0   0\n",
      "   0   0   0   0   0   0   0   0   0   0   0   0   0   0   0   0   0   0\n",
      "   0   0   0   0   0   0   0   0   0   0   0   0   0   0   0   0   0   0\n",
      "   0   0   0   0   0   0   0   0   0   0   0   0   0   0   0   0   0   0\n",
      "   0   0   0   0   0   0   0   0   0   0   0   0   0   0   0   0   0   0\n",
      "   0   0   0   0   0   0   0   0   0   0   0   0   0   0   0   0   0   0\n",
      "   0   0   0   0   0   0   0   0   0   0   0   0   0   0   0   0   0   0\n",
      "   0   0   0   0   0   0   0   0   0   0   0   0   0   0   0   0   0   0\n",
      "   0   0   0   0   0   0   0   0   0   0   0   0   0   0   0   0   0   0\n",
      "   0   0   0   0   0   0   0   0   0   0   0   0   0   0   0   0   0   0\n",
      "   0   0   0   0   0   0   0   0   0   0   0   0   0   0   0   0   0   0\n",
      "   0   0   0   0   0   0   0   0   0   0   0   0   0   0   0   0   0   0\n",
      "   0   0   0   0   0   0   0   0   0   0   0   0   0   0   0   0   0   0\n",
      "   0   0   0   0   0   0   0   0   0   0   0   0   0   0   0   0   0   0\n",
      "   0   0   0   0   0   0   0   0   0   0   0   0   0   0   0   0   0   0\n",
      "   0   0   0   0   0   0   0   0   0   0   0   0   0   0   0   0   0   0\n",
      "   0   0   0   0   0   0   0   0   0   0   0   0   0   0   0   0   0   0\n",
      "   0   0   0   0   0   0   0   0   0   0   0   0   0   0   0   0   0   0\n",
      "   0   0   0   0   0   0   0   0   0   0   0   0   0   0   0   0   0   0\n",
      "   0   0   0   0   0   0   0   0   0   0   0   0   0   0   0   0   0   0\n",
      "   0   0   0   0   0   0   0   0   0   0   0   0   0   0   0   0   0   0\n",
      "   0   0   0   0   0   0   0   0   0   0]\n"
     ]
    }
   ],
   "source": [
    "print(X_train[0,:])"
   ]
  },
  {
   "cell_type": "code",
   "execution_count": 347,
   "metadata": {},
   "outputs": [],
   "source": [
    "from keras.models import Sequential\n",
    "from keras import layers"
   ]
  },
  {
   "cell_type": "code",
   "execution_count": 348,
   "metadata": {},
   "outputs": [],
   "source": [
    "embedding_dim = 50\n",
    "model = Sequential(0)"
   ]
  },
  {
   "cell_type": "code",
   "execution_count": 349,
   "metadata": {},
   "outputs": [
    {
     "name": "stdout",
     "output_type": "stream",
     "text": [
      "_________________________________________________________________\n",
      "Layer (type)                 Output Shape              Param #   \n",
      "=================================================================\n",
      "embedding_4 (Embedding)      (None, 1000, 50)          132500    \n",
      "_________________________________________________________________\n",
      "flatten_3 (Flatten)          (None, 50000)             0         \n",
      "_________________________________________________________________\n",
      "dense_18 (Dense)             (None, 10)                500010    \n",
      "_________________________________________________________________\n",
      "dense_19 (Dense)             (None, 1)                 11        \n",
      "=================================================================\n",
      "Total params: 632,521\n",
      "Trainable params: 632,521\n",
      "Non-trainable params: 0\n",
      "_________________________________________________________________\n"
     ]
    }
   ],
   "source": [
    "model.add(layers.Embedding(input_dim=vocab_size,output_dim= embedding_dim,input_length = maxlen))\n",
    "model.add(layers.Flatten())\n",
    "model.add(layers.Dense(10,activation='relu'))\n",
    "model.add(layers.Dense(1,activation='sigmoid'))\n",
    "model.compile(optimizer = 'adam',loss='binary_crossentropy',metrics = ['accuracy'])\n",
    "model.summary()"
   ]
  },
  {
   "cell_type": "code",
   "execution_count": 350,
   "metadata": {},
   "outputs": [
    {
     "name": "stdout",
     "output_type": "stream",
     "text": [
      "Train on 750 samples, validate on 250 samples\n",
      "Epoch 1/100\n",
      "750/750 [==============================] - 2s 3ms/step - loss: 0.6977 - acc: 0.4693 - val_loss: 0.6932 - val_acc: 0.4480\n",
      "Epoch 2/100\n",
      "750/750 [==============================] - 2s 2ms/step - loss: 0.6931 - acc: 0.5173 - val_loss: 0.6936 - val_acc: 0.4480\n",
      "Epoch 3/100\n",
      "750/750 [==============================] - 2s 3ms/step - loss: 0.6930 - acc: 0.5173 - val_loss: 0.6941 - val_acc: 0.4480\n",
      "Epoch 4/100\n",
      "750/750 [==============================] - 2s 3ms/step - loss: 0.6929 - acc: 0.5173 - val_loss: 0.6943 - val_acc: 0.4480\n",
      "Epoch 5/100\n",
      "750/750 [==============================] - 2s 3ms/step - loss: 0.6929 - acc: 0.5173 - val_loss: 0.6947 - val_acc: 0.4480\n",
      "Epoch 6/100\n",
      "750/750 [==============================] - 2s 3ms/step - loss: 0.6928 - acc: 0.5173 - val_loss: 0.6950 - val_acc: 0.4480\n",
      "Epoch 7/100\n",
      "750/750 [==============================] - 2s 3ms/step - loss: 0.6927 - acc: 0.5173 - val_loss: 0.6951 - val_acc: 0.4480\n",
      "Epoch 8/100\n",
      "750/750 [==============================] - 2s 3ms/step - loss: 0.6927 - acc: 0.5173 - val_loss: 0.6953 - val_acc: 0.4480\n",
      "Epoch 9/100\n",
      "750/750 [==============================] - 2s 2ms/step - loss: 0.6927 - acc: 0.5173 - val_loss: 0.6956 - val_acc: 0.4480\n",
      "Epoch 10/100\n",
      "750/750 [==============================] - 2s 2ms/step - loss: 0.6927 - acc: 0.5173 - val_loss: 0.6956 - val_acc: 0.4480\n",
      "Epoch 11/100\n",
      "750/750 [==============================] - 2s 2ms/step - loss: 0.6927 - acc: 0.5173 - val_loss: 0.6961 - val_acc: 0.4480\n",
      "Epoch 12/100\n",
      "750/750 [==============================] - 2s 2ms/step - loss: 0.6926 - acc: 0.5173 - val_loss: 0.6961 - val_acc: 0.4480\n",
      "Epoch 13/100\n",
      "750/750 [==============================] - 2s 2ms/step - loss: 0.6926 - acc: 0.5173 - val_loss: 0.6963 - val_acc: 0.4480\n",
      "Epoch 14/100\n",
      "750/750 [==============================] - 2s 2ms/step - loss: 0.6926 - acc: 0.5173 - val_loss: 0.6965 - val_acc: 0.4480\n",
      "Epoch 15/100\n",
      "750/750 [==============================] - 2s 3ms/step - loss: 0.6926 - acc: 0.5173 - val_loss: 0.6966 - val_acc: 0.4480\n",
      "Epoch 16/100\n",
      "750/750 [==============================] - 2s 3ms/step - loss: 0.6926 - acc: 0.5173 - val_loss: 0.6966 - val_acc: 0.4480\n",
      "Epoch 17/100\n",
      "750/750 [==============================] - 2s 3ms/step - loss: 0.6927 - acc: 0.5173 - val_loss: 0.6966 - val_acc: 0.4480\n",
      "Epoch 18/100\n",
      "750/750 [==============================] - 2s 2ms/step - loss: 0.6926 - acc: 0.5173 - val_loss: 0.6968 - val_acc: 0.4480\n",
      "Epoch 19/100\n",
      "750/750 [==============================] - 2s 2ms/step - loss: 0.6926 - acc: 0.5173 - val_loss: 0.6966 - val_acc: 0.4480\n",
      "Epoch 20/100\n",
      "750/750 [==============================] - 2s 3ms/step - loss: 0.6926 - acc: 0.5173 - val_loss: 0.6969 - val_acc: 0.4480\n",
      "Epoch 21/100\n",
      "750/750 [==============================] - 2s 2ms/step - loss: 0.6926 - acc: 0.5173 - val_loss: 0.6968 - val_acc: 0.4480\n",
      "Epoch 22/100\n",
      "750/750 [==============================] - 2s 2ms/step - loss: 0.6926 - acc: 0.5173 - val_loss: 0.6969 - val_acc: 0.4480\n",
      "Epoch 23/100\n",
      "750/750 [==============================] - 2s 3ms/step - loss: 0.6926 - acc: 0.5173 - val_loss: 0.6969 - val_acc: 0.4480\n",
      "Epoch 24/100\n",
      "750/750 [==============================] - 2s 3ms/step - loss: 0.6926 - acc: 0.5173 - val_loss: 0.6969 - val_acc: 0.4480\n",
      "Epoch 25/100\n",
      "750/750 [==============================] - 2s 3ms/step - loss: 0.6926 - acc: 0.5173 - val_loss: 0.6969 - val_acc: 0.4480\n",
      "Epoch 26/100\n",
      "750/750 [==============================] - 2s 2ms/step - loss: 0.6927 - acc: 0.5173 - val_loss: 0.6973 - val_acc: 0.4480\n",
      "Epoch 27/100\n",
      "750/750 [==============================] - 2s 2ms/step - loss: 0.6926 - acc: 0.5173 - val_loss: 0.6972 - val_acc: 0.4480\n",
      "Epoch 28/100\n",
      "750/750 [==============================] - 2s 2ms/step - loss: 0.6926 - acc: 0.5173 - val_loss: 0.6972 - val_acc: 0.4480\n",
      "Epoch 29/100\n",
      "750/750 [==============================] - 2s 2ms/step - loss: 0.6926 - acc: 0.5173 - val_loss: 0.6972 - val_acc: 0.4480\n",
      "Epoch 30/100\n",
      "750/750 [==============================] - 2s 2ms/step - loss: 0.6926 - acc: 0.5173 - val_loss: 0.6974 - val_acc: 0.4480\n",
      "Epoch 31/100\n",
      "750/750 [==============================] - 2s 2ms/step - loss: 0.6926 - acc: 0.5173 - val_loss: 0.6973 - val_acc: 0.4480\n",
      "Epoch 32/100\n",
      "750/750 [==============================] - 2s 3ms/step - loss: 0.6927 - acc: 0.5173 - val_loss: 0.6974 - val_acc: 0.4480\n",
      "Epoch 33/100\n",
      "750/750 [==============================] - 2s 3ms/step - loss: 0.6926 - acc: 0.5173 - val_loss: 0.6973 - val_acc: 0.4480\n",
      "Epoch 34/100\n",
      "750/750 [==============================] - 2s 3ms/step - loss: 0.6926 - acc: 0.5173 - val_loss: 0.6974 - val_acc: 0.4480\n",
      "Epoch 35/100\n",
      "750/750 [==============================] - 2s 2ms/step - loss: 0.6926 - acc: 0.5173 - val_loss: 0.6972 - val_acc: 0.4480\n",
      "Epoch 36/100\n",
      "750/750 [==============================] - 2s 2ms/step - loss: 0.6926 - acc: 0.5173 - val_loss: 0.6973 - val_acc: 0.4480\n",
      "Epoch 37/100\n",
      "750/750 [==============================] - 2s 2ms/step - loss: 0.6926 - acc: 0.5173 - val_loss: 0.6973 - val_acc: 0.4480\n",
      "Epoch 38/100\n",
      "750/750 [==============================] - 2s 2ms/step - loss: 0.6926 - acc: 0.5173 - val_loss: 0.6972 - val_acc: 0.4480\n",
      "Epoch 39/100\n",
      "750/750 [==============================] - 2s 3ms/step - loss: 0.6926 - acc: 0.5173 - val_loss: 0.6972 - val_acc: 0.4480\n",
      "Epoch 40/100\n",
      "750/750 [==============================] - 2s 3ms/step - loss: 0.6926 - acc: 0.5173 - val_loss: 0.6972 - val_acc: 0.4480\n",
      "Epoch 41/100\n",
      "750/750 [==============================] - 2s 3ms/step - loss: 0.6926 - acc: 0.5173 - val_loss: 0.6975 - val_acc: 0.4480\n",
      "Epoch 42/100\n",
      "750/750 [==============================] - 2s 3ms/step - loss: 0.6926 - acc: 0.5173 - val_loss: 0.6974 - val_acc: 0.4480\n",
      "Epoch 43/100\n",
      "750/750 [==============================] - 2s 3ms/step - loss: 0.6926 - acc: 0.5173 - val_loss: 0.6973 - val_acc: 0.4480\n",
      "Epoch 44/100\n",
      "750/750 [==============================] - 2s 2ms/step - loss: 0.6926 - acc: 0.5173 - val_loss: 0.6973 - val_acc: 0.4480\n",
      "Epoch 45/100\n",
      "750/750 [==============================] - 2s 2ms/step - loss: 0.6926 - acc: 0.5173 - val_loss: 0.6974 - val_acc: 0.4480\n",
      "Epoch 46/100\n",
      "750/750 [==============================] - 2s 2ms/step - loss: 0.6927 - acc: 0.5173 - val_loss: 0.6974 - val_acc: 0.4480\n",
      "Epoch 47/100\n",
      "750/750 [==============================] - 2s 2ms/step - loss: 0.6926 - acc: 0.5173 - val_loss: 0.6974 - val_acc: 0.4480\n",
      "Epoch 48/100\n",
      "540/750 [====================>.........] - ETA: 0s - loss: 0.6936 - acc: 0.5037"
     ]
    },
    {
     "ename": "KeyboardInterrupt",
     "evalue": "",
     "output_type": "error",
     "traceback": [
      "\u001b[1;31m---------------------------------------------------------------------------\u001b[0m",
      "\u001b[1;31mKeyboardInterrupt\u001b[0m                         Traceback (most recent call last)",
      "\u001b[1;32m<ipython-input-350-6dc8887e975a>\u001b[0m in \u001b[0;36m<module>\u001b[1;34m()\u001b[0m\n\u001b[1;32m----> 1\u001b[1;33m \u001b[0mmodel\u001b[0m\u001b[1;33m.\u001b[0m\u001b[0mfit\u001b[0m\u001b[1;33m(\u001b[0m\u001b[0mX_train\u001b[0m\u001b[1;33m,\u001b[0m\u001b[0my_train\u001b[0m\u001b[1;33m,\u001b[0m\u001b[0mepochs\u001b[0m \u001b[1;33m=\u001b[0m \u001b[1;36m100\u001b[0m\u001b[1;33m,\u001b[0m\u001b[0mvalidation_data\u001b[0m\u001b[1;33m=\u001b[0m\u001b[1;33m(\u001b[0m\u001b[0mX_test\u001b[0m\u001b[1;33m,\u001b[0m\u001b[0my_test\u001b[0m\u001b[1;33m)\u001b[0m\u001b[1;33m,\u001b[0m\u001b[0mbatch_size\u001b[0m\u001b[1;33m=\u001b[0m\u001b[1;36m10\u001b[0m\u001b[1;33m)\u001b[0m\u001b[1;33m\u001b[0m\u001b[0m\n\u001b[0m",
      "\u001b[1;32m~\\Anaconda3\\lib\\site-packages\\keras\\engine\\training.py\u001b[0m in \u001b[0;36mfit\u001b[1;34m(self, x, y, batch_size, epochs, verbose, callbacks, validation_split, validation_data, shuffle, class_weight, sample_weight, initial_epoch, steps_per_epoch, validation_steps, **kwargs)\u001b[0m\n\u001b[0;32m   1037\u001b[0m                                         \u001b[0minitial_epoch\u001b[0m\u001b[1;33m=\u001b[0m\u001b[0minitial_epoch\u001b[0m\u001b[1;33m,\u001b[0m\u001b[1;33m\u001b[0m\u001b[0m\n\u001b[0;32m   1038\u001b[0m                                         \u001b[0msteps_per_epoch\u001b[0m\u001b[1;33m=\u001b[0m\u001b[0msteps_per_epoch\u001b[0m\u001b[1;33m,\u001b[0m\u001b[1;33m\u001b[0m\u001b[0m\n\u001b[1;32m-> 1039\u001b[1;33m                                         validation_steps=validation_steps)\n\u001b[0m\u001b[0;32m   1040\u001b[0m \u001b[1;33m\u001b[0m\u001b[0m\n\u001b[0;32m   1041\u001b[0m     def evaluate(self, x=None, y=None,\n",
      "\u001b[1;32m~\\Anaconda3\\lib\\site-packages\\keras\\engine\\training_arrays.py\u001b[0m in \u001b[0;36mfit_loop\u001b[1;34m(model, f, ins, out_labels, batch_size, epochs, verbose, callbacks, val_f, val_ins, shuffle, callback_metrics, initial_epoch, steps_per_epoch, validation_steps)\u001b[0m\n\u001b[0;32m    197\u001b[0m                     \u001b[0mins_batch\u001b[0m\u001b[1;33m[\u001b[0m\u001b[0mi\u001b[0m\u001b[1;33m]\u001b[0m \u001b[1;33m=\u001b[0m \u001b[0mins_batch\u001b[0m\u001b[1;33m[\u001b[0m\u001b[0mi\u001b[0m\u001b[1;33m]\u001b[0m\u001b[1;33m.\u001b[0m\u001b[0mtoarray\u001b[0m\u001b[1;33m(\u001b[0m\u001b[1;33m)\u001b[0m\u001b[1;33m\u001b[0m\u001b[0m\n\u001b[0;32m    198\u001b[0m \u001b[1;33m\u001b[0m\u001b[0m\n\u001b[1;32m--> 199\u001b[1;33m                 \u001b[0mouts\u001b[0m \u001b[1;33m=\u001b[0m \u001b[0mf\u001b[0m\u001b[1;33m(\u001b[0m\u001b[0mins_batch\u001b[0m\u001b[1;33m)\u001b[0m\u001b[1;33m\u001b[0m\u001b[0m\n\u001b[0m\u001b[0;32m    200\u001b[0m                 \u001b[0mouts\u001b[0m \u001b[1;33m=\u001b[0m \u001b[0mto_list\u001b[0m\u001b[1;33m(\u001b[0m\u001b[0mouts\u001b[0m\u001b[1;33m)\u001b[0m\u001b[1;33m\u001b[0m\u001b[0m\n\u001b[0;32m    201\u001b[0m                 \u001b[1;32mfor\u001b[0m \u001b[0ml\u001b[0m\u001b[1;33m,\u001b[0m \u001b[0mo\u001b[0m \u001b[1;32min\u001b[0m \u001b[0mzip\u001b[0m\u001b[1;33m(\u001b[0m\u001b[0mout_labels\u001b[0m\u001b[1;33m,\u001b[0m \u001b[0mouts\u001b[0m\u001b[1;33m)\u001b[0m\u001b[1;33m:\u001b[0m\u001b[1;33m\u001b[0m\u001b[0m\n",
      "\u001b[1;32m~\\Anaconda3\\lib\\site-packages\\keras\\backend\\tensorflow_backend.py\u001b[0m in \u001b[0;36m__call__\u001b[1;34m(self, inputs)\u001b[0m\n\u001b[0;32m   2713\u001b[0m                 \u001b[1;32mreturn\u001b[0m \u001b[0mself\u001b[0m\u001b[1;33m.\u001b[0m\u001b[0m_legacy_call\u001b[0m\u001b[1;33m(\u001b[0m\u001b[0minputs\u001b[0m\u001b[1;33m)\u001b[0m\u001b[1;33m\u001b[0m\u001b[0m\n\u001b[0;32m   2714\u001b[0m \u001b[1;33m\u001b[0m\u001b[0m\n\u001b[1;32m-> 2715\u001b[1;33m             \u001b[1;32mreturn\u001b[0m \u001b[0mself\u001b[0m\u001b[1;33m.\u001b[0m\u001b[0m_call\u001b[0m\u001b[1;33m(\u001b[0m\u001b[0minputs\u001b[0m\u001b[1;33m)\u001b[0m\u001b[1;33m\u001b[0m\u001b[0m\n\u001b[0m\u001b[0;32m   2716\u001b[0m         \u001b[1;32melse\u001b[0m\u001b[1;33m:\u001b[0m\u001b[1;33m\u001b[0m\u001b[0m\n\u001b[0;32m   2717\u001b[0m             \u001b[1;32mif\u001b[0m \u001b[0mpy_any\u001b[0m\u001b[1;33m(\u001b[0m\u001b[0mis_tensor\u001b[0m\u001b[1;33m(\u001b[0m\u001b[0mx\u001b[0m\u001b[1;33m)\u001b[0m \u001b[1;32mfor\u001b[0m \u001b[0mx\u001b[0m \u001b[1;32min\u001b[0m \u001b[0minputs\u001b[0m\u001b[1;33m)\u001b[0m\u001b[1;33m:\u001b[0m\u001b[1;33m\u001b[0m\u001b[0m\n",
      "\u001b[1;32m~\\Anaconda3\\lib\\site-packages\\keras\\backend\\tensorflow_backend.py\u001b[0m in \u001b[0;36m_call\u001b[1;34m(self, inputs)\u001b[0m\n\u001b[0;32m   2673\u001b[0m             \u001b[0mfetched\u001b[0m \u001b[1;33m=\u001b[0m \u001b[0mself\u001b[0m\u001b[1;33m.\u001b[0m\u001b[0m_callable_fn\u001b[0m\u001b[1;33m(\u001b[0m\u001b[1;33m*\u001b[0m\u001b[0marray_vals\u001b[0m\u001b[1;33m,\u001b[0m \u001b[0mrun_metadata\u001b[0m\u001b[1;33m=\u001b[0m\u001b[0mself\u001b[0m\u001b[1;33m.\u001b[0m\u001b[0mrun_metadata\u001b[0m\u001b[1;33m)\u001b[0m\u001b[1;33m\u001b[0m\u001b[0m\n\u001b[0;32m   2674\u001b[0m         \u001b[1;32melse\u001b[0m\u001b[1;33m:\u001b[0m\u001b[1;33m\u001b[0m\u001b[0m\n\u001b[1;32m-> 2675\u001b[1;33m             \u001b[0mfetched\u001b[0m \u001b[1;33m=\u001b[0m \u001b[0mself\u001b[0m\u001b[1;33m.\u001b[0m\u001b[0m_callable_fn\u001b[0m\u001b[1;33m(\u001b[0m\u001b[1;33m*\u001b[0m\u001b[0marray_vals\u001b[0m\u001b[1;33m)\u001b[0m\u001b[1;33m\u001b[0m\u001b[0m\n\u001b[0m\u001b[0;32m   2676\u001b[0m         \u001b[1;32mreturn\u001b[0m \u001b[0mfetched\u001b[0m\u001b[1;33m[\u001b[0m\u001b[1;33m:\u001b[0m\u001b[0mlen\u001b[0m\u001b[1;33m(\u001b[0m\u001b[0mself\u001b[0m\u001b[1;33m.\u001b[0m\u001b[0moutputs\u001b[0m\u001b[1;33m)\u001b[0m\u001b[1;33m]\u001b[0m\u001b[1;33m\u001b[0m\u001b[0m\n\u001b[0;32m   2677\u001b[0m \u001b[1;33m\u001b[0m\u001b[0m\n",
      "\u001b[1;32m~\\Anaconda3\\lib\\site-packages\\tensorflow\\python\\client\\session.py\u001b[0m in \u001b[0;36m__call__\u001b[1;34m(self, *args, **kwargs)\u001b[0m\n\u001b[0;32m   1437\u001b[0m           ret = tf_session.TF_SessionRunCallable(\n\u001b[0;32m   1438\u001b[0m               \u001b[0mself\u001b[0m\u001b[1;33m.\u001b[0m\u001b[0m_session\u001b[0m\u001b[1;33m.\u001b[0m\u001b[0m_session\u001b[0m\u001b[1;33m,\u001b[0m \u001b[0mself\u001b[0m\u001b[1;33m.\u001b[0m\u001b[0m_handle\u001b[0m\u001b[1;33m,\u001b[0m \u001b[0margs\u001b[0m\u001b[1;33m,\u001b[0m \u001b[0mstatus\u001b[0m\u001b[1;33m,\u001b[0m\u001b[1;33m\u001b[0m\u001b[0m\n\u001b[1;32m-> 1439\u001b[1;33m               run_metadata_ptr)\n\u001b[0m\u001b[0;32m   1440\u001b[0m         \u001b[1;32mif\u001b[0m \u001b[0mrun_metadata\u001b[0m\u001b[1;33m:\u001b[0m\u001b[1;33m\u001b[0m\u001b[0m\n\u001b[0;32m   1441\u001b[0m           \u001b[0mproto_data\u001b[0m \u001b[1;33m=\u001b[0m \u001b[0mtf_session\u001b[0m\u001b[1;33m.\u001b[0m\u001b[0mTF_GetBuffer\u001b[0m\u001b[1;33m(\u001b[0m\u001b[0mrun_metadata_ptr\u001b[0m\u001b[1;33m)\u001b[0m\u001b[1;33m\u001b[0m\u001b[0m\n",
      "\u001b[1;31mKeyboardInterrupt\u001b[0m: "
     ]
    }
   ],
   "source": [
    "model.fit(X_train,y_train,epochs = 100,validation_data=(X_test,y_test),batch_size=10)"
   ]
  },
  {
   "cell_type": "code",
   "execution_count": 351,
   "metadata": {},
   "outputs": [],
   "source": [
    "from keras.layers import Conv1D, GlobalMaxPool1D"
   ]
  },
  {
   "cell_type": "code",
   "execution_count": 352,
   "metadata": {},
   "outputs": [
    {
     "name": "stdout",
     "output_type": "stream",
     "text": [
      "_________________________________________________________________\n",
      "Layer (type)                 Output Shape              Param #   \n",
      "=================================================================\n",
      "embedding_5 (Embedding)      (None, 1000, 100)         265000    \n",
      "_________________________________________________________________\n",
      "conv1d_2 (Conv1D)            (None, 996, 128)          64128     \n",
      "_________________________________________________________________\n",
      "global_max_pooling1d_2 (Glob (None, 128)               0         \n",
      "_________________________________________________________________\n",
      "dense_20 (Dense)             (None, 10)                1290      \n",
      "_________________________________________________________________\n",
      "dense_21 (Dense)             (None, 1)                 11        \n",
      "=================================================================\n",
      "Total params: 330,429\n",
      "Trainable params: 330,429\n",
      "Non-trainable params: 0\n",
      "_________________________________________________________________\n"
     ]
    }
   ],
   "source": [
    "embedding_dim = 100\n",
    "\n",
    "model = Sequential()\n",
    "model.add(layers.Embedding(vocab_size, embedding_dim, input_length=maxlen))\n",
    "model.add(layers.Conv1D(128, 5, activation='relu'))\n",
    "model.add(layers.GlobalMaxPooling1D())\n",
    "model.add(layers.Dense(10, activation='relu'))\n",
    "model.add(layers.Dense(1, activation='sigmoid'))\n",
    "model.compile(optimizer='adam',\n",
    "              loss='binary_crossentropy',\n",
    "              metrics=['accuracy'])\n",
    "model.summary()"
   ]
  },
  {
   "cell_type": "code",
   "execution_count": 354,
   "metadata": {},
   "outputs": [
    {
     "name": "stdout",
     "output_type": "stream",
     "text": [
      "Train on 750 samples, validate on 250 samples\n",
      "Epoch 1/10\n",
      "750/750 [==============================] - 16s 21ms/step - loss: 9.6466e-04 - acc: 1.0000 - val_loss: 0.7232 - val_acc: 0.7480\n",
      "Epoch 2/10\n",
      "750/750 [==============================] - 16s 21ms/step - loss: 7.5496e-04 - acc: 1.0000 - val_loss: 0.7379 - val_acc: 0.7480\n",
      "Epoch 3/10\n",
      "750/750 [==============================] - 16s 21ms/step - loss: 6.0552e-04 - acc: 1.0000 - val_loss: 0.7509 - val_acc: 0.748004 - acc: \n",
      "Epoch 4/10\n",
      "750/750 [==============================] - 16s 21ms/step - loss: 5.0081e-04 - acc: 1.0000 - val_loss: 0.7636 - val_acc: 0.7480\n",
      "Epoch 5/10\n",
      "750/750 [==============================] - 16s 21ms/step - loss: 4.1580e-04 - acc: 1.0000 - val_loss: 0.7746 - val_acc: 0.7480\n",
      "Epoch 6/10\n",
      "750/750 [==============================] - 16s 21ms/step - loss: 3.5080e-04 - acc: 1.0000 - val_loss: 0.7858 - val_acc: 0.7480\n",
      "Epoch 7/10\n",
      "750/750 [==============================] - 16s 21ms/step - loss: 3.0060e-04 - acc: 1.0000 - val_loss: 0.7958 - val_acc: 0.7480\n",
      "Epoch 8/10\n",
      "750/750 [==============================] - 16s 21ms/step - loss: 2.6087e-04 - acc: 1.0000 - val_loss: 0.8052 - val_acc: 0.7480\n",
      "Epoch 9/10\n",
      "750/750 [==============================] - 16s 21ms/step - loss: 2.2709e-04 - acc: 1.0000 - val_loss: 0.8139 - val_acc: 0.7480\n",
      "Epoch 10/10\n",
      "750/750 [==============================] - 16s 21ms/step - loss: 1.9900e-04 - acc: 1.0000 - val_loss: 0.8231 - val_acc: 0.7520\n"
     ]
    }
   ],
   "source": [
    "hist = model.fit(X_train, y_train,epochs = 10,validation_data=(X_test,y_test),batch_size=10)"
   ]
  },
  {
   "cell_type": "code",
   "execution_count": 358,
   "metadata": {},
   "outputs": [
    {
     "ename": "TypeError",
     "evalue": "must be str, not numpy.float64",
     "output_type": "error",
     "traceback": [
      "\u001b[1;31m---------------------------------------------------------------------------\u001b[0m",
      "\u001b[1;31mTypeError\u001b[0m                                 Traceback (most recent call last)",
      "\u001b[1;32m<ipython-input-358-ef9e75cb0189>\u001b[0m in \u001b[0;36m<module>\u001b[1;34m()\u001b[0m\n\u001b[0;32m      1\u001b[0m \u001b[0mloss\u001b[0m\u001b[1;33m,\u001b[0m\u001b[0maccuracy\u001b[0m \u001b[1;33m=\u001b[0m \u001b[0mmodel\u001b[0m\u001b[1;33m.\u001b[0m\u001b[0mevaluate\u001b[0m\u001b[1;33m(\u001b[0m\u001b[0mX_train\u001b[0m\u001b[1;33m,\u001b[0m\u001b[0my_train\u001b[0m\u001b[1;33m,\u001b[0m\u001b[0mverbose\u001b[0m \u001b[1;33m=\u001b[0m\u001b[1;32mFalse\u001b[0m\u001b[1;33m)\u001b[0m\u001b[1;33m\u001b[0m\u001b[0m\n\u001b[1;32m----> 2\u001b[1;33m \u001b[0mprint\u001b[0m\u001b[1;33m(\u001b[0m\u001b[1;34m\"train_accuracy:\"\u001b[0m \u001b[1;33m+\u001b[0m\u001b[0maccuracy\u001b[0m\u001b[1;33m)\u001b[0m\u001b[1;33m\u001b[0m\u001b[0m\n\u001b[0m\u001b[0;32m      3\u001b[0m \u001b[0mloss\u001b[0m\u001b[1;33m,\u001b[0m\u001b[0maccuracy\u001b[0m \u001b[1;33m=\u001b[0m \u001b[0mmodel\u001b[0m\u001b[1;33m.\u001b[0m\u001b[0mevaluate\u001b[0m\u001b[1;33m(\u001b[0m\u001b[0mX_test\u001b[0m\u001b[1;33m,\u001b[0m\u001b[0my_test\u001b[0m\u001b[1;33m,\u001b[0m\u001b[0mverbose\u001b[0m \u001b[1;33m=\u001b[0m\u001b[1;32mFalse\u001b[0m\u001b[1;33m)\u001b[0m\u001b[1;33m\u001b[0m\u001b[0m\n\u001b[0;32m      4\u001b[0m \u001b[0mprint\u001b[0m\u001b[1;33m(\u001b[0m\u001b[1;34m\"test_accuracy:\"\u001b[0m \u001b[1;33m+\u001b[0m\u001b[0maccuracy\u001b[0m\u001b[1;33m)\u001b[0m\u001b[1;33m\u001b[0m\u001b[0m\n",
      "\u001b[1;31mTypeError\u001b[0m: must be str, not numpy.float64"
     ]
    }
   ],
   "source": [
    "loss,accuracy = model.evaluate(X_train,y_train,verbose =False)\n",
    "print(\"train_accuracy:\" +accuracy)\n",
    "loss,accuracy = model.evaluate(X_test,y_test,verbose =False)\n",
    "print(\"test_accuracy:\" +accuracy)\n",
    "\n"
   ]
  },
  {
   "cell_type": "code",
   "execution_count": null,
   "metadata": {},
   "outputs": [],
   "source": [
    "plot_history(hist)"
   ]
  },
  {
   "cell_type": "code",
   "execution_count": null,
   "metadata": {},
   "outputs": [],
   "source": []
  }
 ],
 "metadata": {
  "kernelspec": {
   "display_name": "Python 3",
   "language": "python",
   "name": "python3"
  },
  "language_info": {
   "codemirror_mode": {
    "name": "ipython",
    "version": 3
   },
   "file_extension": ".py",
   "mimetype": "text/x-python",
   "name": "python",
   "nbconvert_exporter": "python",
   "pygments_lexer": "ipython3",
   "version": "3.6.5"
  }
 },
 "nbformat": 4,
 "nbformat_minor": 2
}
